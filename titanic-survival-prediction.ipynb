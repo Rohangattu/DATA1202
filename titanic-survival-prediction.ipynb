{
 "cells": [
  {
   "cell_type": "code",
   "execution_count": 1,
   "id": "4d639fb5",
   "metadata": {
    "_cell_guid": "b1076dfc-b9ad-4769-8c92-a6c4dae69d19",
    "_uuid": "8f2839f25d086af736a60e9eeb907d3b93b6e0e5",
    "execution": {
     "iopub.execute_input": "2024-02-17T01:16:40.871777Z",
     "iopub.status.busy": "2024-02-17T01:16:40.870576Z",
     "iopub.status.idle": "2024-02-17T01:16:41.982316Z",
     "shell.execute_reply": "2024-02-17T01:16:41.980232Z"
    },
    "papermill": {
     "duration": 1.139843,
     "end_time": "2024-02-17T01:16:41.985775",
     "exception": false,
     "start_time": "2024-02-17T01:16:40.845932",
     "status": "completed"
    },
    "tags": []
   },
   "outputs": [
    {
     "name": "stdout",
     "output_type": "stream",
     "text": [
      "/kaggle/input/titanic/train.csv\n",
      "/kaggle/input/titanic/test.csv\n",
      "/kaggle/input/titanic/gender_submission.csv\n"
     ]
    }
   ],
   "source": [
    "# This Python 3 environment comes with many helpful analytics libraries installed\n",
    "# It is defined by the kaggle/python Docker image: https://github.com/kaggle/docker-python\n",
    "# For example, here's several helpful packages to load\n",
    "\n",
    "import numpy as np # linear algebra\n",
    "import pandas as pd # data processing, CSV file I/O (e.g. pd.read_csv)\n",
    "\n",
    "# Input data files are available in the read-only \"../input/\" directory\n",
    "# For example, running this (by clicking run or pressing Shift+Enter) will list all files under the input directory\n",
    "\n",
    "import os\n",
    "for dirname, _, filenames in os.walk('/kaggle/input'):\n",
    "    for filename in filenames:\n",
    "        print(os.path.join(dirname, filename))\n",
    "\n",
    "# You can write up to 20GB to the current directory (/kaggle/working/) that gets preserved as output when you create a version using \"Save & Run All\" \n",
    "# You can also write temporary files to /kaggle/temp/, but they won't be saved outside of the current session"
   ]
  },
  {
   "cell_type": "code",
   "execution_count": 2,
   "id": "20f6fb57",
   "metadata": {
    "execution": {
     "iopub.execute_input": "2024-02-17T01:16:42.031570Z",
     "iopub.status.busy": "2024-02-17T01:16:42.030965Z",
     "iopub.status.idle": "2024-02-17T01:16:42.060757Z",
     "shell.execute_reply": "2024-02-17T01:16:42.059178Z"
    },
    "papermill": {
     "duration": 0.056218,
     "end_time": "2024-02-17T01:16:42.064585",
     "exception": false,
     "start_time": "2024-02-17T01:16:42.008367",
     "status": "completed"
    },
    "tags": []
   },
   "outputs": [],
   "source": [
    "train_data = pd.read_csv(\"/kaggle/input/titanic/train.csv\")"
   ]
  },
  {
   "cell_type": "code",
   "execution_count": 3,
   "id": "e8c5a0ba",
   "metadata": {
    "execution": {
     "iopub.execute_input": "2024-02-17T01:16:42.109870Z",
     "iopub.status.busy": "2024-02-17T01:16:42.109448Z",
     "iopub.status.idle": "2024-02-17T01:16:42.146456Z",
     "shell.execute_reply": "2024-02-17T01:16:42.144484Z"
    },
    "papermill": {
     "duration": 0.06403,
     "end_time": "2024-02-17T01:16:42.151156",
     "exception": false,
     "start_time": "2024-02-17T01:16:42.087126",
     "status": "completed"
    },
    "tags": []
   },
   "outputs": [
    {
     "data": {
      "text/html": [
       "<div>\n",
       "<style scoped>\n",
       "    .dataframe tbody tr th:only-of-type {\n",
       "        vertical-align: middle;\n",
       "    }\n",
       "\n",
       "    .dataframe tbody tr th {\n",
       "        vertical-align: top;\n",
       "    }\n",
       "\n",
       "    .dataframe thead th {\n",
       "        text-align: right;\n",
       "    }\n",
       "</style>\n",
       "<table border=\"1\" class=\"dataframe\">\n",
       "  <thead>\n",
       "    <tr style=\"text-align: right;\">\n",
       "      <th></th>\n",
       "      <th>PassengerId</th>\n",
       "      <th>Survived</th>\n",
       "      <th>Pclass</th>\n",
       "      <th>Name</th>\n",
       "      <th>Sex</th>\n",
       "      <th>Age</th>\n",
       "      <th>SibSp</th>\n",
       "      <th>Parch</th>\n",
       "      <th>Ticket</th>\n",
       "      <th>Fare</th>\n",
       "      <th>Cabin</th>\n",
       "      <th>Embarked</th>\n",
       "    </tr>\n",
       "  </thead>\n",
       "  <tbody>\n",
       "    <tr>\n",
       "      <th>0</th>\n",
       "      <td>1</td>\n",
       "      <td>0</td>\n",
       "      <td>3</td>\n",
       "      <td>Braund, Mr. Owen Harris</td>\n",
       "      <td>male</td>\n",
       "      <td>22.0</td>\n",
       "      <td>1</td>\n",
       "      <td>0</td>\n",
       "      <td>A/5 21171</td>\n",
       "      <td>7.2500</td>\n",
       "      <td>NaN</td>\n",
       "      <td>S</td>\n",
       "    </tr>\n",
       "    <tr>\n",
       "      <th>1</th>\n",
       "      <td>2</td>\n",
       "      <td>1</td>\n",
       "      <td>1</td>\n",
       "      <td>Cumings, Mrs. John Bradley (Florence Briggs Th...</td>\n",
       "      <td>female</td>\n",
       "      <td>38.0</td>\n",
       "      <td>1</td>\n",
       "      <td>0</td>\n",
       "      <td>PC 17599</td>\n",
       "      <td>71.2833</td>\n",
       "      <td>C85</td>\n",
       "      <td>C</td>\n",
       "    </tr>\n",
       "    <tr>\n",
       "      <th>2</th>\n",
       "      <td>3</td>\n",
       "      <td>1</td>\n",
       "      <td>3</td>\n",
       "      <td>Heikkinen, Miss. Laina</td>\n",
       "      <td>female</td>\n",
       "      <td>26.0</td>\n",
       "      <td>0</td>\n",
       "      <td>0</td>\n",
       "      <td>STON/O2. 3101282</td>\n",
       "      <td>7.9250</td>\n",
       "      <td>NaN</td>\n",
       "      <td>S</td>\n",
       "    </tr>\n",
       "    <tr>\n",
       "      <th>3</th>\n",
       "      <td>4</td>\n",
       "      <td>1</td>\n",
       "      <td>1</td>\n",
       "      <td>Futrelle, Mrs. Jacques Heath (Lily May Peel)</td>\n",
       "      <td>female</td>\n",
       "      <td>35.0</td>\n",
       "      <td>1</td>\n",
       "      <td>0</td>\n",
       "      <td>113803</td>\n",
       "      <td>53.1000</td>\n",
       "      <td>C123</td>\n",
       "      <td>S</td>\n",
       "    </tr>\n",
       "    <tr>\n",
       "      <th>4</th>\n",
       "      <td>5</td>\n",
       "      <td>0</td>\n",
       "      <td>3</td>\n",
       "      <td>Allen, Mr. William Henry</td>\n",
       "      <td>male</td>\n",
       "      <td>35.0</td>\n",
       "      <td>0</td>\n",
       "      <td>0</td>\n",
       "      <td>373450</td>\n",
       "      <td>8.0500</td>\n",
       "      <td>NaN</td>\n",
       "      <td>S</td>\n",
       "    </tr>\n",
       "  </tbody>\n",
       "</table>\n",
       "</div>"
      ],
      "text/plain": [
       "   PassengerId  Survived  Pclass  \\\n",
       "0            1         0       3   \n",
       "1            2         1       1   \n",
       "2            3         1       3   \n",
       "3            4         1       1   \n",
       "4            5         0       3   \n",
       "\n",
       "                                                Name     Sex   Age  SibSp  \\\n",
       "0                            Braund, Mr. Owen Harris    male  22.0      1   \n",
       "1  Cumings, Mrs. John Bradley (Florence Briggs Th...  female  38.0      1   \n",
       "2                             Heikkinen, Miss. Laina  female  26.0      0   \n",
       "3       Futrelle, Mrs. Jacques Heath (Lily May Peel)  female  35.0      1   \n",
       "4                           Allen, Mr. William Henry    male  35.0      0   \n",
       "\n",
       "   Parch            Ticket     Fare Cabin Embarked  \n",
       "0      0         A/5 21171   7.2500   NaN        S  \n",
       "1      0          PC 17599  71.2833   C85        C  \n",
       "2      0  STON/O2. 3101282   7.9250   NaN        S  \n",
       "3      0            113803  53.1000  C123        S  \n",
       "4      0            373450   8.0500   NaN        S  "
      ]
     },
     "execution_count": 3,
     "metadata": {},
     "output_type": "execute_result"
    }
   ],
   "source": [
    "train_data.head()"
   ]
  },
  {
   "cell_type": "code",
   "execution_count": 4,
   "id": "72e281c5",
   "metadata": {
    "execution": {
     "iopub.execute_input": "2024-02-17T01:16:42.213563Z",
     "iopub.status.busy": "2024-02-17T01:16:42.211042Z",
     "iopub.status.idle": "2024-02-17T01:16:42.245184Z",
     "shell.execute_reply": "2024-02-17T01:16:42.243462Z"
    },
    "papermill": {
     "duration": 0.065701,
     "end_time": "2024-02-17T01:16:42.247660",
     "exception": false,
     "start_time": "2024-02-17T01:16:42.181959",
     "status": "completed"
    },
    "tags": []
   },
   "outputs": [
    {
     "name": "stdout",
     "output_type": "stream",
     "text": [
      "<class 'pandas.core.frame.DataFrame'>\n",
      "RangeIndex: 891 entries, 0 to 890\n",
      "Data columns (total 12 columns):\n",
      " #   Column       Non-Null Count  Dtype  \n",
      "---  ------       --------------  -----  \n",
      " 0   PassengerId  891 non-null    int64  \n",
      " 1   Survived     891 non-null    int64  \n",
      " 2   Pclass       891 non-null    int64  \n",
      " 3   Name         891 non-null    object \n",
      " 4   Sex          891 non-null    object \n",
      " 5   Age          714 non-null    float64\n",
      " 6   SibSp        891 non-null    int64  \n",
      " 7   Parch        891 non-null    int64  \n",
      " 8   Ticket       891 non-null    object \n",
      " 9   Fare         891 non-null    float64\n",
      " 10  Cabin        204 non-null    object \n",
      " 11  Embarked     889 non-null    object \n",
      "dtypes: float64(2), int64(5), object(5)\n",
      "memory usage: 83.7+ KB\n"
     ]
    }
   ],
   "source": [
    "train_data.info()"
   ]
  },
  {
   "cell_type": "code",
   "execution_count": 5,
   "id": "53759e9d",
   "metadata": {
    "execution": {
     "iopub.execute_input": "2024-02-17T01:16:42.291824Z",
     "iopub.status.busy": "2024-02-17T01:16:42.291036Z",
     "iopub.status.idle": "2024-02-17T01:16:42.330959Z",
     "shell.execute_reply": "2024-02-17T01:16:42.329717Z"
    },
    "papermill": {
     "duration": 0.065835,
     "end_time": "2024-02-17T01:16:42.334115",
     "exception": false,
     "start_time": "2024-02-17T01:16:42.268280",
     "status": "completed"
    },
    "tags": []
   },
   "outputs": [
    {
     "data": {
      "text/html": [
       "<div>\n",
       "<style scoped>\n",
       "    .dataframe tbody tr th:only-of-type {\n",
       "        vertical-align: middle;\n",
       "    }\n",
       "\n",
       "    .dataframe tbody tr th {\n",
       "        vertical-align: top;\n",
       "    }\n",
       "\n",
       "    .dataframe thead th {\n",
       "        text-align: right;\n",
       "    }\n",
       "</style>\n",
       "<table border=\"1\" class=\"dataframe\">\n",
       "  <thead>\n",
       "    <tr style=\"text-align: right;\">\n",
       "      <th></th>\n",
       "      <th>PassengerId</th>\n",
       "      <th>Survived</th>\n",
       "      <th>Pclass</th>\n",
       "      <th>Age</th>\n",
       "      <th>SibSp</th>\n",
       "      <th>Parch</th>\n",
       "      <th>Fare</th>\n",
       "    </tr>\n",
       "  </thead>\n",
       "  <tbody>\n",
       "    <tr>\n",
       "      <th>count</th>\n",
       "      <td>891.000000</td>\n",
       "      <td>891.000000</td>\n",
       "      <td>891.000000</td>\n",
       "      <td>714.000000</td>\n",
       "      <td>891.000000</td>\n",
       "      <td>891.000000</td>\n",
       "      <td>891.000000</td>\n",
       "    </tr>\n",
       "    <tr>\n",
       "      <th>mean</th>\n",
       "      <td>446.000000</td>\n",
       "      <td>0.383838</td>\n",
       "      <td>2.308642</td>\n",
       "      <td>29.699118</td>\n",
       "      <td>0.523008</td>\n",
       "      <td>0.381594</td>\n",
       "      <td>32.204208</td>\n",
       "    </tr>\n",
       "    <tr>\n",
       "      <th>std</th>\n",
       "      <td>257.353842</td>\n",
       "      <td>0.486592</td>\n",
       "      <td>0.836071</td>\n",
       "      <td>14.526497</td>\n",
       "      <td>1.102743</td>\n",
       "      <td>0.806057</td>\n",
       "      <td>49.693429</td>\n",
       "    </tr>\n",
       "    <tr>\n",
       "      <th>min</th>\n",
       "      <td>1.000000</td>\n",
       "      <td>0.000000</td>\n",
       "      <td>1.000000</td>\n",
       "      <td>0.420000</td>\n",
       "      <td>0.000000</td>\n",
       "      <td>0.000000</td>\n",
       "      <td>0.000000</td>\n",
       "    </tr>\n",
       "    <tr>\n",
       "      <th>25%</th>\n",
       "      <td>223.500000</td>\n",
       "      <td>0.000000</td>\n",
       "      <td>2.000000</td>\n",
       "      <td>20.125000</td>\n",
       "      <td>0.000000</td>\n",
       "      <td>0.000000</td>\n",
       "      <td>7.910400</td>\n",
       "    </tr>\n",
       "    <tr>\n",
       "      <th>50%</th>\n",
       "      <td>446.000000</td>\n",
       "      <td>0.000000</td>\n",
       "      <td>3.000000</td>\n",
       "      <td>28.000000</td>\n",
       "      <td>0.000000</td>\n",
       "      <td>0.000000</td>\n",
       "      <td>14.454200</td>\n",
       "    </tr>\n",
       "    <tr>\n",
       "      <th>75%</th>\n",
       "      <td>668.500000</td>\n",
       "      <td>1.000000</td>\n",
       "      <td>3.000000</td>\n",
       "      <td>38.000000</td>\n",
       "      <td>1.000000</td>\n",
       "      <td>0.000000</td>\n",
       "      <td>31.000000</td>\n",
       "    </tr>\n",
       "    <tr>\n",
       "      <th>max</th>\n",
       "      <td>891.000000</td>\n",
       "      <td>1.000000</td>\n",
       "      <td>3.000000</td>\n",
       "      <td>80.000000</td>\n",
       "      <td>8.000000</td>\n",
       "      <td>6.000000</td>\n",
       "      <td>512.329200</td>\n",
       "    </tr>\n",
       "  </tbody>\n",
       "</table>\n",
       "</div>"
      ],
      "text/plain": [
       "       PassengerId    Survived      Pclass         Age       SibSp  \\\n",
       "count   891.000000  891.000000  891.000000  714.000000  891.000000   \n",
       "mean    446.000000    0.383838    2.308642   29.699118    0.523008   \n",
       "std     257.353842    0.486592    0.836071   14.526497    1.102743   \n",
       "min       1.000000    0.000000    1.000000    0.420000    0.000000   \n",
       "25%     223.500000    0.000000    2.000000   20.125000    0.000000   \n",
       "50%     446.000000    0.000000    3.000000   28.000000    0.000000   \n",
       "75%     668.500000    1.000000    3.000000   38.000000    1.000000   \n",
       "max     891.000000    1.000000    3.000000   80.000000    8.000000   \n",
       "\n",
       "            Parch        Fare  \n",
       "count  891.000000  891.000000  \n",
       "mean     0.381594   32.204208  \n",
       "std      0.806057   49.693429  \n",
       "min      0.000000    0.000000  \n",
       "25%      0.000000    7.910400  \n",
       "50%      0.000000   14.454200  \n",
       "75%      0.000000   31.000000  \n",
       "max      6.000000  512.329200  "
      ]
     },
     "execution_count": 5,
     "metadata": {},
     "output_type": "execute_result"
    }
   ],
   "source": [
    "train_data.describe()"
   ]
  },
  {
   "cell_type": "code",
   "execution_count": 6,
   "id": "2199dfe9",
   "metadata": {
    "execution": {
     "iopub.execute_input": "2024-02-17T01:16:42.380187Z",
     "iopub.status.busy": "2024-02-17T01:16:42.379640Z",
     "iopub.status.idle": "2024-02-17T01:16:42.393416Z",
     "shell.execute_reply": "2024-02-17T01:16:42.392488Z"
    },
    "papermill": {
     "duration": 0.039414,
     "end_time": "2024-02-17T01:16:42.395802",
     "exception": false,
     "start_time": "2024-02-17T01:16:42.356388",
     "status": "completed"
    },
    "tags": []
   },
   "outputs": [
    {
     "data": {
      "text/plain": [
       "0.7420382165605095"
      ]
     },
     "execution_count": 6,
     "metadata": {},
     "output_type": "execute_result"
    }
   ],
   "source": [
    "female = train_data[train_data.Sex == \"female\"]\n",
    "percent_of_female_survived = len(female[female.Survived ==1])/len(female)\n",
    "percent_of_female_survived"
   ]
  },
  {
   "cell_type": "code",
   "execution_count": 7,
   "id": "f0d57b37",
   "metadata": {
    "execution": {
     "iopub.execute_input": "2024-02-17T01:16:42.441615Z",
     "iopub.status.busy": "2024-02-17T01:16:42.441012Z",
     "iopub.status.idle": "2024-02-17T01:16:42.452716Z",
     "shell.execute_reply": "2024-02-17T01:16:42.451482Z"
    },
    "papermill": {
     "duration": 0.038065,
     "end_time": "2024-02-17T01:16:42.455075",
     "exception": false,
     "start_time": "2024-02-17T01:16:42.417010",
     "status": "completed"
    },
    "tags": []
   },
   "outputs": [
    {
     "data": {
      "text/plain": [
       "0.18890814558058924"
      ]
     },
     "execution_count": 7,
     "metadata": {},
     "output_type": "execute_result"
    }
   ],
   "source": [
    "male = train_data[train_data.Sex == \"male\"]\n",
    "percent_of_male_survived = len(male[male.Survived ==1])/len(male)\n",
    "percent_of_male_survived"
   ]
  },
  {
   "cell_type": "code",
   "execution_count": 8,
   "id": "f193c1d4",
   "metadata": {
    "execution": {
     "iopub.execute_input": "2024-02-17T01:16:42.499955Z",
     "iopub.status.busy": "2024-02-17T01:16:42.499426Z",
     "iopub.status.idle": "2024-02-17T01:16:42.511342Z",
     "shell.execute_reply": "2024-02-17T01:16:42.509954Z"
    },
    "papermill": {
     "duration": 0.037535,
     "end_time": "2024-02-17T01:16:42.513855",
     "exception": false,
     "start_time": "2024-02-17T01:16:42.476320",
     "status": "completed"
    },
    "tags": []
   },
   "outputs": [
    {
     "data": {
      "text/plain": [
       "PassengerId      0\n",
       "Survived         0\n",
       "Pclass           0\n",
       "Name             0\n",
       "Sex              0\n",
       "Age            177\n",
       "SibSp            0\n",
       "Parch            0\n",
       "Ticket           0\n",
       "Fare             0\n",
       "Cabin          687\n",
       "Embarked         2\n",
       "dtype: int64"
      ]
     },
     "execution_count": 8,
     "metadata": {},
     "output_type": "execute_result"
    }
   ],
   "source": [
    "train_data.isnull().sum()"
   ]
  },
  {
   "cell_type": "code",
   "execution_count": 9,
   "id": "cd9270ae",
   "metadata": {
    "execution": {
     "iopub.execute_input": "2024-02-17T01:16:42.560304Z",
     "iopub.status.busy": "2024-02-17T01:16:42.558890Z",
     "iopub.status.idle": "2024-02-17T01:16:44.235553Z",
     "shell.execute_reply": "2024-02-17T01:16:44.234210Z"
    },
    "papermill": {
     "duration": 1.703036,
     "end_time": "2024-02-17T01:16:44.238749",
     "exception": false,
     "start_time": "2024-02-17T01:16:42.535713",
     "status": "completed"
    },
    "tags": []
   },
   "outputs": [],
   "source": [
    "import seaborn as sns\n",
    "import matplotlib.pyplot as plt"
   ]
  },
  {
   "cell_type": "code",
   "execution_count": 10,
   "id": "c1183448",
   "metadata": {
    "execution": {
     "iopub.execute_input": "2024-02-17T01:16:44.360748Z",
     "iopub.status.busy": "2024-02-17T01:16:44.360292Z",
     "iopub.status.idle": "2024-02-17T01:16:44.644643Z",
     "shell.execute_reply": "2024-02-17T01:16:44.643291Z"
    },
    "papermill": {
     "duration": 0.386448,
     "end_time": "2024-02-17T01:16:44.647347",
     "exception": false,
     "start_time": "2024-02-17T01:16:44.260899",
     "status": "completed"
    },
    "tags": []
   },
   "outputs": [
    {
     "data": {
      "text/plain": [
       "<Axes: >"
      ]
     },
     "execution_count": 10,
     "metadata": {},
     "output_type": "execute_result"
    },
    {
     "data": {
      "image/png": "[encoded data removed]",
      "text/plain": [
       "<Figure size 640x480 with 1 Axes>"
      ]
     },
     "metadata": {},
     "output_type": "display_data"
    }
   ],
   "source": [
    "sns.boxplot(train_data.Age)"
   ]
  },
  {
   "cell_type": "code",
   "execution_count": 11,
   "id": "40900a84",
   "metadata": {
    "execution": {
     "iopub.execute_input": "2024-02-17T01:16:44.693612Z",
     "iopub.status.busy": "2024-02-17T01:16:44.693183Z",
     "iopub.status.idle": "2024-02-17T01:16:45.787491Z",
     "shell.execute_reply": "2024-02-17T01:16:45.786394Z"
    },
    "papermill": {
     "duration": 1.120962,
     "end_time": "2024-02-17T01:16:45.790327",
     "exception": false,
     "start_time": "2024-02-17T01:16:44.669365",
     "status": "completed"
    },
    "tags": []
   },
   "outputs": [
    {
     "data": {
      "text/plain": [
       "<Axes: xlabel='Age', ylabel='count'>"
      ]
     },
     "execution_count": 11,
     "metadata": {},
     "output_type": "execute_result"
    },
    {
     "data": {
      "image/png": "[encoded data removed]",
      "text/plain": [
       "<Figure size 640x480 with 1 Axes>"
      ]
     },
     "metadata": {},
     "output_type": "display_data"
    }
   ],
   "source": [
    "sns.countplot(data = train_data, x = \"Age\")"
   ]
  },
  {
   "cell_type": "code",
   "execution_count": 12,
   "id": "9fd88cc1",
   "metadata": {
    "execution": {
     "iopub.execute_input": "2024-02-17T01:16:45.840011Z",
     "iopub.status.busy": "2024-02-17T01:16:45.839179Z",
     "iopub.status.idle": "2024-02-17T01:16:45.847069Z",
     "shell.execute_reply": "2024-02-17T01:16:45.846003Z"
    },
    "papermill": {
     "duration": 0.035911,
     "end_time": "2024-02-17T01:16:45.849977",
     "exception": false,
     "start_time": "2024-02-17T01:16:45.814066",
     "status": "completed"
    },
    "tags": []
   },
   "outputs": [],
   "source": [
    "#Age is equally distributed so assigning the missing valuse to mean of the data \n",
    "train_data[\"Age\"].fillna(train_data[\"Age\"].mean(), inplace = True)"
   ]
  },
  {
   "cell_type": "code",
   "execution_count": 13,
   "id": "da1096e3",
   "metadata": {
    "execution": {
     "iopub.execute_input": "2024-02-17T01:16:45.900827Z",
     "iopub.status.busy": "2024-02-17T01:16:45.900363Z",
     "iopub.status.idle": "2024-02-17T01:16:45.911198Z",
     "shell.execute_reply": "2024-02-17T01:16:45.909793Z"
    },
    "papermill": {
     "duration": 0.041014,
     "end_time": "2024-02-17T01:16:45.914543",
     "exception": false,
     "start_time": "2024-02-17T01:16:45.873529",
     "status": "completed"
    },
    "tags": []
   },
   "outputs": [
    {
     "data": {
      "text/plain": [
       "Age\n",
       "29.699118    177\n",
       "24.000000     30\n",
       "22.000000     27\n",
       "18.000000     26\n",
       "28.000000     25\n",
       "            ... \n",
       "36.500000      1\n",
       "55.500000      1\n",
       "0.920000       1\n",
       "23.500000      1\n",
       "74.000000      1\n",
       "Name: count, Length: 89, dtype: int64"
      ]
     },
     "execution_count": 13,
     "metadata": {},
     "output_type": "execute_result"
    }
   ],
   "source": [
    "train_data.Age.value_counts(dropna = False)"
   ]
  },
  {
   "cell_type": "code",
   "execution_count": 14,
   "id": "f73d8d44",
   "metadata": {
    "execution": {
     "iopub.execute_input": "2024-02-17T01:16:45.962842Z",
     "iopub.status.busy": "2024-02-17T01:16:45.962371Z",
     "iopub.status.idle": "2024-02-17T01:16:47.619299Z",
     "shell.execute_reply": "2024-02-17T01:16:47.618061Z"
    },
    "papermill": {
     "duration": 1.684514,
     "end_time": "2024-02-17T01:16:47.622390",
     "exception": false,
     "start_time": "2024-02-17T01:16:45.937876",
     "status": "completed"
    },
    "tags": []
   },
   "outputs": [
    {
     "data": {
      "text/plain": [
       "<Axes: xlabel='Cabin', ylabel='count'>"
      ]
     },
     "execution_count": 14,
     "metadata": {},
     "output_type": "execute_result"
    },
    {
     "data": {
      "image/png": "[encoded data removed]",
      "text/plain": [
       "<Figure size 640x480 with 1 Axes>"
      ]
     },
     "metadata": {},
     "output_type": "display_data"
    }
   ],
   "source": [
    "sns.countplot(data = train_data, x = \"Cabin\")"
   ]
  },
  {
   "cell_type": "code",
   "execution_count": 15,
   "id": "5e9546d8",
   "metadata": {
    "execution": {
     "iopub.execute_input": "2024-02-17T01:16:47.674278Z",
     "iopub.status.busy": "2024-02-17T01:16:47.673889Z",
     "iopub.status.idle": "2024-02-17T01:16:47.683268Z",
     "shell.execute_reply": "2024-02-17T01:16:47.682043Z"
    },
    "papermill": {
     "duration": 0.038664,
     "end_time": "2024-02-17T01:16:47.685887",
     "exception": false,
     "start_time": "2024-02-17T01:16:47.647223",
     "status": "completed"
    },
    "tags": []
   },
   "outputs": [
    {
     "data": {
      "text/plain": [
       "<bound method IndexOpsMixin.nunique of 0       NaN\n",
       "1       C85\n",
       "2       NaN\n",
       "3      C123\n",
       "4       NaN\n",
       "       ... \n",
       "886     NaN\n",
       "887     B42\n",
       "888     NaN\n",
       "889    C148\n",
       "890     NaN\n",
       "Name: Cabin, Length: 891, dtype: object>"
      ]
     },
     "execution_count": 15,
     "metadata": {},
     "output_type": "execute_result"
    }
   ],
   "source": [
    "cabs = train_data.Cabin.nunique\n",
    "cabs"
   ]
  },
  {
   "cell_type": "code",
   "execution_count": 16,
   "id": "8aa2b44d",
   "metadata": {
    "execution": {
     "iopub.execute_input": "2024-02-17T01:16:47.737914Z",
     "iopub.status.busy": "2024-02-17T01:16:47.736492Z",
     "iopub.status.idle": "2024-02-17T01:16:47.747186Z",
     "shell.execute_reply": "2024-02-17T01:16:47.745879Z"
    },
    "papermill": {
     "duration": 0.040367,
     "end_time": "2024-02-17T01:16:47.750224",
     "exception": false,
     "start_time": "2024-02-17T01:16:47.709857",
     "status": "completed"
    },
    "tags": []
   },
   "outputs": [
    {
     "data": {
      "text/plain": [
       "0.7710437710437711"
      ]
     },
     "execution_count": 16,
     "metadata": {},
     "output_type": "execute_result"
    }
   ],
   "source": [
    "train_data[\"Cabin\"].isnull().sum()/len(train_data[\"Cabin\"])"
   ]
  },
  {
   "cell_type": "code",
   "execution_count": 17,
   "id": "436bd747",
   "metadata": {
    "execution": {
     "iopub.execute_input": "2024-02-17T01:16:47.801007Z",
     "iopub.status.busy": "2024-02-17T01:16:47.800556Z",
     "iopub.status.idle": "2024-02-17T01:16:47.809113Z",
     "shell.execute_reply": "2024-02-17T01:16:47.807754Z"
    },
    "papermill": {
     "duration": 0.037786,
     "end_time": "2024-02-17T01:16:47.812317",
     "exception": false,
     "start_time": "2024-02-17T01:16:47.774531",
     "status": "completed"
    },
    "tags": []
   },
   "outputs": [],
   "source": [
    "#77% of Cabin values are null. So the Column is not helpful for us in teh model. \n",
    "#So lets drop the \"Cabin\" Column\n",
    "\n",
    "train_data.drop('Cabin',axis=1,inplace=True)"
   ]
  },
  {
   "cell_type": "code",
   "execution_count": 18,
   "id": "e56fe68e",
   "metadata": {
    "execution": {
     "iopub.execute_input": "2024-02-17T01:16:47.864685Z",
     "iopub.status.busy": "2024-02-17T01:16:47.864216Z",
     "iopub.status.idle": "2024-02-17T01:16:47.883506Z",
     "shell.execute_reply": "2024-02-17T01:16:47.882128Z"
    },
    "papermill": {
     "duration": 0.049373,
     "end_time": "2024-02-17T01:16:47.886643",
     "exception": false,
     "start_time": "2024-02-17T01:16:47.837270",
     "status": "completed"
    },
    "tags": []
   },
   "outputs": [
    {
     "data": {
      "text/html": [
       "<div>\n",
       "<style scoped>\n",
       "    .dataframe tbody tr th:only-of-type {\n",
       "        vertical-align: middle;\n",
       "    }\n",
       "\n",
       "    .dataframe tbody tr th {\n",
       "        vertical-align: top;\n",
       "    }\n",
       "\n",
       "    .dataframe thead th {\n",
       "        text-align: right;\n",
       "    }\n",
       "</style>\n",
       "<table border=\"1\" class=\"dataframe\">\n",
       "  <thead>\n",
       "    <tr style=\"text-align: right;\">\n",
       "      <th></th>\n",
       "      <th>PassengerId</th>\n",
       "      <th>Survived</th>\n",
       "      <th>Pclass</th>\n",
       "      <th>Name</th>\n",
       "      <th>Sex</th>\n",
       "      <th>Age</th>\n",
       "      <th>SibSp</th>\n",
       "      <th>Parch</th>\n",
       "      <th>Ticket</th>\n",
       "      <th>Fare</th>\n",
       "      <th>Embarked</th>\n",
       "    </tr>\n",
       "  </thead>\n",
       "  <tbody>\n",
       "    <tr>\n",
       "      <th>0</th>\n",
       "      <td>1</td>\n",
       "      <td>0</td>\n",
       "      <td>3</td>\n",
       "      <td>Braund, Mr. Owen Harris</td>\n",
       "      <td>male</td>\n",
       "      <td>22.0</td>\n",
       "      <td>1</td>\n",
       "      <td>0</td>\n",
       "      <td>A/5 21171</td>\n",
       "      <td>7.2500</td>\n",
       "      <td>S</td>\n",
       "    </tr>\n",
       "    <tr>\n",
       "      <th>1</th>\n",
       "      <td>2</td>\n",
       "      <td>1</td>\n",
       "      <td>1</td>\n",
       "      <td>Cumings, Mrs. John Bradley (Florence Briggs Th...</td>\n",
       "      <td>female</td>\n",
       "      <td>38.0</td>\n",
       "      <td>1</td>\n",
       "      <td>0</td>\n",
       "      <td>PC 17599</td>\n",
       "      <td>71.2833</td>\n",
       "      <td>C</td>\n",
       "    </tr>\n",
       "    <tr>\n",
       "      <th>2</th>\n",
       "      <td>3</td>\n",
       "      <td>1</td>\n",
       "      <td>3</td>\n",
       "      <td>Heikkinen, Miss. Laina</td>\n",
       "      <td>female</td>\n",
       "      <td>26.0</td>\n",
       "      <td>0</td>\n",
       "      <td>0</td>\n",
       "      <td>STON/O2. 3101282</td>\n",
       "      <td>7.9250</td>\n",
       "      <td>S</td>\n",
       "    </tr>\n",
       "    <tr>\n",
       "      <th>3</th>\n",
       "      <td>4</td>\n",
       "      <td>1</td>\n",
       "      <td>1</td>\n",
       "      <td>Futrelle, Mrs. Jacques Heath (Lily May Peel)</td>\n",
       "      <td>female</td>\n",
       "      <td>35.0</td>\n",
       "      <td>1</td>\n",
       "      <td>0</td>\n",
       "      <td>113803</td>\n",
       "      <td>53.1000</td>\n",
       "      <td>S</td>\n",
       "    </tr>\n",
       "    <tr>\n",
       "      <th>4</th>\n",
       "      <td>5</td>\n",
       "      <td>0</td>\n",
       "      <td>3</td>\n",
       "      <td>Allen, Mr. William Henry</td>\n",
       "      <td>male</td>\n",
       "      <td>35.0</td>\n",
       "      <td>0</td>\n",
       "      <td>0</td>\n",
       "      <td>373450</td>\n",
       "      <td>8.0500</td>\n",
       "      <td>S</td>\n",
       "    </tr>\n",
       "  </tbody>\n",
       "</table>\n",
       "</div>"
      ],
      "text/plain": [
       "   PassengerId  Survived  Pclass  \\\n",
       "0            1         0       3   \n",
       "1            2         1       1   \n",
       "2            3         1       3   \n",
       "3            4         1       1   \n",
       "4            5         0       3   \n",
       "\n",
       "                                                Name     Sex   Age  SibSp  \\\n",
       "0                            Braund, Mr. Owen Harris    male  22.0      1   \n",
       "1  Cumings, Mrs. John Bradley (Florence Briggs Th...  female  38.0      1   \n",
       "2                             Heikkinen, Miss. Laina  female  26.0      0   \n",
       "3       Futrelle, Mrs. Jacques Heath (Lily May Peel)  female  35.0      1   \n",
       "4                           Allen, Mr. William Henry    male  35.0      0   \n",
       "\n",
       "   Parch            Ticket     Fare Embarked  \n",
       "0      0         A/5 21171   7.2500        S  \n",
       "1      0          PC 17599  71.2833        C  \n",
       "2      0  STON/O2. 3101282   7.9250        S  \n",
       "3      0            113803  53.1000        S  \n",
       "4      0            373450   8.0500        S  "
      ]
     },
     "execution_count": 18,
     "metadata": {},
     "output_type": "execute_result"
    }
   ],
   "source": [
    "train_data.head()"
   ]
  },
  {
   "cell_type": "code",
   "execution_count": 19,
   "id": "84e9f2ff",
   "metadata": {
    "execution": {
     "iopub.execute_input": "2024-02-17T01:16:47.938579Z",
     "iopub.status.busy": "2024-02-17T01:16:47.938137Z",
     "iopub.status.idle": "2024-02-17T01:16:47.948743Z",
     "shell.execute_reply": "2024-02-17T01:16:47.947387Z"
    },
    "papermill": {
     "duration": 0.039556,
     "end_time": "2024-02-17T01:16:47.951257",
     "exception": false,
     "start_time": "2024-02-17T01:16:47.911701",
     "status": "completed"
    },
    "tags": []
   },
   "outputs": [
    {
     "data": {
      "text/plain": [
       "PassengerId    0\n",
       "Survived       0\n",
       "Pclass         0\n",
       "Name           0\n",
       "Sex            0\n",
       "Age            0\n",
       "SibSp          0\n",
       "Parch          0\n",
       "Ticket         0\n",
       "Fare           0\n",
       "Embarked       2\n",
       "dtype: int64"
      ]
     },
     "execution_count": 19,
     "metadata": {},
     "output_type": "execute_result"
    }
   ],
   "source": [
    "train_data.isnull().sum()"
   ]
  },
  {
   "cell_type": "code",
   "execution_count": 20,
   "id": "e75b8ea4",
   "metadata": {
    "execution": {
     "iopub.execute_input": "2024-02-17T01:16:48.005059Z",
     "iopub.status.busy": "2024-02-17T01:16:48.004590Z",
     "iopub.status.idle": "2024-02-17T01:16:48.012801Z",
     "shell.execute_reply": "2024-02-17T01:16:48.011351Z"
    },
    "papermill": {
     "duration": 0.038111,
     "end_time": "2024-02-17T01:16:48.015363",
     "exception": false,
     "start_time": "2024-02-17T01:16:47.977252",
     "status": "completed"
    },
    "tags": []
   },
   "outputs": [],
   "source": [
    "train_data['Embarked'].fillna(train_data['Embarked'].mode()[0], inplace = True)"
   ]
  },
  {
   "cell_type": "code",
   "execution_count": 21,
   "id": "40f49427",
   "metadata": {
    "execution": {
     "iopub.execute_input": "2024-02-17T01:16:48.067748Z",
     "iopub.status.busy": "2024-02-17T01:16:48.067336Z",
     "iopub.status.idle": "2024-02-17T01:16:48.076550Z",
     "shell.execute_reply": "2024-02-17T01:16:48.075431Z"
    },
    "papermill": {
     "duration": 0.038112,
     "end_time": "2024-02-17T01:16:48.079041",
     "exception": false,
     "start_time": "2024-02-17T01:16:48.040929",
     "status": "completed"
    },
    "tags": []
   },
   "outputs": [
    {
     "data": {
      "text/plain": [
       "Embarked\n",
       "S    646\n",
       "C    168\n",
       "Q     77\n",
       "Name: count, dtype: int64"
      ]
     },
     "execution_count": 21,
     "metadata": {},
     "output_type": "execute_result"
    }
   ],
   "source": [
    "train_data.Embarked.value_counts(dropna = False)"
   ]
  },
  {
   "cell_type": "code",
   "execution_count": 22,
   "id": "5b921fae",
   "metadata": {
    "execution": {
     "iopub.execute_input": "2024-02-17T01:16:48.133653Z",
     "iopub.status.busy": "2024-02-17T01:16:48.133062Z",
     "iopub.status.idle": "2024-02-17T01:16:48.420141Z",
     "shell.execute_reply": "2024-02-17T01:16:48.418869Z"
    },
    "papermill": {
     "duration": 0.317878,
     "end_time": "2024-02-17T01:16:48.422974",
     "exception": false,
     "start_time": "2024-02-17T01:16:48.105096",
     "status": "completed"
    },
    "tags": []
   },
   "outputs": [
    {
     "data": {
      "text/plain": [
       "<Axes: xlabel='Sex', ylabel='count'>"
      ]
     },
     "execution_count": 22,
     "metadata": {},
     "output_type": "execute_result"
    },
    {
     "data": {
      "image/png": "[encoded data removed]",
      "text/plain": [
       "<Figure size 640x480 with 1 Axes>"
      ]
     },
     "metadata": {},
     "output_type": "display_data"
    }
   ],
   "source": [
    "sns.countplot(data = train_data, x= \"Sex\", hue = \"Survived\")"
   ]
  },
  {
   "cell_type": "markdown",
   "id": "6da92e90",
   "metadata": {
    "papermill": {
     "duration": 0.025062,
     "end_time": "2024-02-17T01:16:48.474709",
     "exception": false,
     "start_time": "2024-02-17T01:16:48.449647",
     "status": "completed"
    },
    "tags": []
   },
   "source": []
  },
  {
   "cell_type": "code",
   "execution_count": 23,
   "id": "d0a24e6a",
   "metadata": {
    "execution": {
     "iopub.execute_input": "2024-02-17T01:16:48.529570Z",
     "iopub.status.busy": "2024-02-17T01:16:48.529139Z",
     "iopub.status.idle": "2024-02-17T01:16:48.859512Z",
     "shell.execute_reply": "2024-02-17T01:16:48.858158Z"
    },
    "papermill": {
     "duration": 0.361752,
     "end_time": "2024-02-17T01:16:48.862253",
     "exception": false,
     "start_time": "2024-02-17T01:16:48.500501",
     "status": "completed"
    },
    "tags": []
   },
   "outputs": [
    {
     "data": {
      "text/plain": [
       "<Axes: xlabel='Pclass', ylabel='count'>"
      ]
     },
     "execution_count": 23,
     "metadata": {},
     "output_type": "execute_result"
    },
    {
     "data": {
      "image/png": "[encoded data removed]",
      "text/plain": [
       "<Figure size 640x480 with 1 Axes>"
      ]
     },
     "metadata": {},
     "output_type": "display_data"
    }
   ],
   "source": [
    "sns.countplot(data = train_data, x= \"Pclass\",hue=\"Survived\")"
   ]
  },
  {
   "cell_type": "code",
   "execution_count": 24,
   "id": "223b95c9",
   "metadata": {
    "execution": {
     "iopub.execute_input": "2024-02-17T01:16:48.917868Z",
     "iopub.status.busy": "2024-02-17T01:16:48.917346Z",
     "iopub.status.idle": "2024-02-17T01:16:49.460835Z",
     "shell.execute_reply": "2024-02-17T01:16:49.459401Z"
    },
    "papermill": {
     "duration": 0.575018,
     "end_time": "2024-02-17T01:16:49.463989",
     "exception": false,
     "start_time": "2024-02-17T01:16:48.888971",
     "status": "completed"
    },
    "tags": []
   },
   "outputs": [
    {
     "data": {
      "text/plain": [
       "<Axes: xlabel='Pclass', ylabel='Survived'>"
      ]
     },
     "execution_count": 24,
     "metadata": {},
     "output_type": "execute_result"
    },
    {
     "data": {
      "image/png": "[encoded data removed]",
      "text/plain": [
       "<Figure size 640x480 with 1 Axes>"
      ]
     },
     "metadata": {},
     "output_type": "display_data"
    }
   ],
   "source": [
    "sns.barplot(data = train_data, x= \"Pclass\",y=\"Survived\", hue = \"Sex\")"
   ]
  },
  {
   "cell_type": "code",
   "execution_count": 25,
   "id": "be24af05",
   "metadata": {
    "execution": {
     "iopub.execute_input": "2024-02-17T01:16:49.519825Z",
     "iopub.status.busy": "2024-02-17T01:16:49.519315Z",
     "iopub.status.idle": "2024-02-17T01:16:50.057007Z",
     "shell.execute_reply": "2024-02-17T01:16:50.055578Z"
    },
    "papermill": {
     "duration": 0.569663,
     "end_time": "2024-02-17T01:16:50.059739",
     "exception": false,
     "start_time": "2024-02-17T01:16:49.490076",
     "status": "completed"
    },
    "tags": []
   },
   "outputs": [
    {
     "data": {
      "text/plain": [
       "<Axes: xlabel='Pclass', ylabel='Survived'>"
      ]
     },
     "execution_count": 25,
     "metadata": {},
     "output_type": "execute_result"
    },
    {
     "data": {
      "image/png": "[encoded data removed]",
      "text/plain": [
       "<Figure size 640x480 with 1 Axes>"
      ]
     },
     "metadata": {},
     "output_type": "display_data"
    }
   ],
   "source": [
    "sns.barplot(data = train_data, x= \"Pclass\",y=\"Survived\")"
   ]
  },
  {
   "cell_type": "code",
   "execution_count": 26,
   "id": "6b708f93",
   "metadata": {
    "execution": {
     "iopub.execute_input": "2024-02-17T01:16:50.116625Z",
     "iopub.status.busy": "2024-02-17T01:16:50.116193Z",
     "iopub.status.idle": "2024-02-17T01:16:50.443200Z",
     "shell.execute_reply": "2024-02-17T01:16:50.441766Z"
    },
    "papermill": {
     "duration": 0.35936,
     "end_time": "2024-02-17T01:16:50.446100",
     "exception": false,
     "start_time": "2024-02-17T01:16:50.086740",
     "status": "completed"
    },
    "tags": []
   },
   "outputs": [
    {
     "data": {
      "text/plain": [
       "<Axes: xlabel='Pclass', ylabel='count'>"
      ]
     },
     "execution_count": 26,
     "metadata": {},
     "output_type": "execute_result"
    },
    {
     "data": {
      "image/png": "[encoded data removed]",
      "text/plain": [
       "<Figure size 640x480 with 1 Axes>"
      ]
     },
     "metadata": {},
     "output_type": "display_data"
    }
   ],
   "source": [
    "sns.countplot(data=train_data, x='Pclass', hue = \"Survived\")"
   ]
  },
  {
   "cell_type": "code",
   "execution_count": 27,
   "id": "6c886653",
   "metadata": {
    "execution": {
     "iopub.execute_input": "2024-02-17T01:16:50.505132Z",
     "iopub.status.busy": "2024-02-17T01:16:50.504623Z",
     "iopub.status.idle": "2024-02-17T01:16:50.895828Z",
     "shell.execute_reply": "2024-02-17T01:16:50.894622Z"
    },
    "papermill": {
     "duration": 0.423702,
     "end_time": "2024-02-17T01:16:50.898579",
     "exception": false,
     "start_time": "2024-02-17T01:16:50.474877",
     "status": "completed"
    },
    "tags": []
   },
   "outputs": [
    {
     "data": {
      "text/plain": [
       "<Axes: xlabel='Age', ylabel='Count'>"
      ]
     },
     "execution_count": 27,
     "metadata": {},
     "output_type": "execute_result"
    },
    {
     "data": {
      "image/png": "[encoded data removed]",
      "text/plain": [
       "<Figure size 640x480 with 1 Axes>"
      ]
     },
     "metadata": {},
     "output_type": "display_data"
    }
   ],
   "source": [
    "sns.histplot(data = train_data, x= \"Age\")"
   ]
  },
  {
   "cell_type": "code",
   "execution_count": 28,
   "id": "33140a14",
   "metadata": {
    "execution": {
     "iopub.execute_input": "2024-02-17T01:16:50.957373Z",
     "iopub.status.busy": "2024-02-17T01:16:50.956237Z",
     "iopub.status.idle": "2024-02-17T01:16:50.971603Z",
     "shell.execute_reply": "2024-02-17T01:16:50.970275Z"
    },
    "papermill": {
     "duration": 0.048025,
     "end_time": "2024-02-17T01:16:50.974597",
     "exception": false,
     "start_time": "2024-02-17T01:16:50.926572",
     "status": "completed"
    },
    "tags": []
   },
   "outputs": [],
   "source": [
    "train_data['AgeGroup'] = pd.cut(train_data['Age'], bins=[0,10,20,30,40,50,60,70,80])"
   ]
  },
  {
   "cell_type": "code",
   "execution_count": 29,
   "id": "fbbd035a",
   "metadata": {
    "execution": {
     "iopub.execute_input": "2024-02-17T01:16:51.034936Z",
     "iopub.status.busy": "2024-02-17T01:16:51.034471Z",
     "iopub.status.idle": "2024-02-17T01:16:51.694123Z",
     "shell.execute_reply": "2024-02-17T01:16:51.692767Z"
    },
    "papermill": {
     "duration": 0.692639,
     "end_time": "2024-02-17T01:16:51.696658",
     "exception": false,
     "start_time": "2024-02-17T01:16:51.004019",
     "status": "completed"
    },
    "tags": []
   },
   "outputs": [
    {
     "data": {
      "text/plain": [
       "[Text(0, 0, '0.59375'),\n",
       " Text(0, 0, '0.382609'),\n",
       " Text(0, 0, '0.334152'),\n",
       " Text(0, 0, '0.445161'),\n",
       " Text(0, 0, '0.383721'),\n",
       " Text(0, 0, '0.404762'),\n",
       " Text(0, 0, '0.235294'),\n",
       " Text(0, 0, '0.2')]"
      ]
     },
     "execution_count": 29,
     "metadata": {},
     "output_type": "execute_result"
    },
    {
     "data": {
      "image/png": "[encoded data removed]",
      "text/plain": [
       "<Figure size 640x480 with 1 Axes>"
      ]
     },
     "metadata": {},
     "output_type": "display_data"
    }
   ],
   "source": [
    "age_chart = sns.barplot(data = train_data, x= \"AgeGroup\", y= \"Survived\")\n",
    "age_chart.bar_label(age_chart.containers[0])"
   ]
  },
  {
   "cell_type": "code",
   "execution_count": 30,
   "id": "bf2b53dc",
   "metadata": {
    "execution": {
     "iopub.execute_input": "2024-02-17T01:16:51.756704Z",
     "iopub.status.busy": "2024-02-17T01:16:51.756202Z",
     "iopub.status.idle": "2024-02-17T01:16:52.099247Z",
     "shell.execute_reply": "2024-02-17T01:16:52.097754Z"
    },
    "papermill": {
     "duration": 0.377091,
     "end_time": "2024-02-17T01:16:52.101978",
     "exception": false,
     "start_time": "2024-02-17T01:16:51.724887",
     "status": "completed"
    },
    "tags": []
   },
   "outputs": [
    {
     "data": {
      "text/plain": [
       "<Axes: xlabel='AgeGroup', ylabel='count'>"
      ]
     },
     "execution_count": 30,
     "metadata": {},
     "output_type": "execute_result"
    },
    {
     "data": {
      "image/png": "[encoded data removed]",
      "text/plain": [
       "<Figure size 640x480 with 1 Axes>"
      ]
     },
     "metadata": {},
     "output_type": "display_data"
    }
   ],
   "source": [
    "sns.countplot(data = train_data, x= \"AgeGroup\")"
   ]
  },
  {
   "cell_type": "code",
   "execution_count": 31,
   "id": "edf30709",
   "metadata": {
    "execution": {
     "iopub.execute_input": "2024-02-17T01:16:52.166254Z",
     "iopub.status.busy": "2024-02-17T01:16:52.165042Z",
     "iopub.status.idle": "2024-02-17T01:16:52.174371Z",
     "shell.execute_reply": "2024-02-17T01:16:52.173422Z"
    },
    "papermill": {
     "duration": 0.042624,
     "end_time": "2024-02-17T01:16:52.176693",
     "exception": false,
     "start_time": "2024-02-17T01:16:52.134069",
     "status": "completed"
    },
    "tags": []
   },
   "outputs": [
    {
     "data": {
      "text/plain": [
       "SibSp\n",
       "0    608\n",
       "1    209\n",
       "2     28\n",
       "4     18\n",
       "3     16\n",
       "8      7\n",
       "5      5\n",
       "Name: count, dtype: int64"
      ]
     },
     "execution_count": 31,
     "metadata": {},
     "output_type": "execute_result"
    }
   ],
   "source": [
    "train_data.SibSp.value_counts()"
   ]
  },
  {
   "cell_type": "code",
   "execution_count": 32,
   "id": "0097589e",
   "metadata": {
    "execution": {
     "iopub.execute_input": "2024-02-17T01:16:52.238859Z",
     "iopub.status.busy": "2024-02-17T01:16:52.237980Z",
     "iopub.status.idle": "2024-02-17T01:16:52.796120Z",
     "shell.execute_reply": "2024-02-17T01:16:52.794453Z"
    },
    "papermill": {
     "duration": 0.594143,
     "end_time": "2024-02-17T01:16:52.799393",
     "exception": false,
     "start_time": "2024-02-17T01:16:52.205250",
     "status": "completed"
    },
    "tags": []
   },
   "outputs": [
    {
     "data": {
      "text/plain": [
       "<Axes: xlabel='SibSp', ylabel='Survived'>"
      ]
     },
     "execution_count": 32,
     "metadata": {},
     "output_type": "execute_result"
    },
    {
     "data": {
      "image/png": "[encoded data removed]",
      "text/plain": [
       "<Figure size 640x480 with 1 Axes>"
      ]
     },
     "metadata": {},
     "output_type": "display_data"
    }
   ],
   "source": [
    "sns.barplot(data = train_data, x= \"SibSp\", y= \"Survived\")"
   ]
  },
  {
   "cell_type": "code",
   "execution_count": 33,
   "id": "bcee5b3b",
   "metadata": {
    "execution": {
     "iopub.execute_input": "2024-02-17T01:16:52.861531Z",
     "iopub.status.busy": "2024-02-17T01:16:52.861052Z",
     "iopub.status.idle": "2024-02-17T01:16:53.163893Z",
     "shell.execute_reply": "2024-02-17T01:16:53.162307Z"
    },
    "papermill": {
     "duration": 0.337017,
     "end_time": "2024-02-17T01:16:53.166525",
     "exception": false,
     "start_time": "2024-02-17T01:16:52.829508",
     "status": "completed"
    },
    "tags": []
   },
   "outputs": [
    {
     "data": {
      "text/plain": [
       "<Axes: xlabel='SibSp', ylabel='count'>"
      ]
     },
     "execution_count": 33,
     "metadata": {},
     "output_type": "execute_result"
    },
    {
     "data": {
      "image/png": "[encoded data removed]",
      "text/plain": [
       "<Figure size 640x480 with 1 Axes>"
      ]
     },
     "metadata": {},
     "output_type": "display_data"
    }
   ],
   "source": [
    "sns.countplot(data=train_data, x='SibSp')"
   ]
  },
  {
   "cell_type": "code",
   "execution_count": 34,
   "id": "ae94b6ca",
   "metadata": {
    "execution": {
     "iopub.execute_input": "2024-02-17T01:16:53.231323Z",
     "iopub.status.busy": "2024-02-17T01:16:53.230867Z",
     "iopub.status.idle": "2024-02-17T01:16:53.241699Z",
     "shell.execute_reply": "2024-02-17T01:16:53.240259Z"
    },
    "papermill": {
     "duration": 0.047166,
     "end_time": "2024-02-17T01:16:53.244381",
     "exception": false,
     "start_time": "2024-02-17T01:16:53.197215",
     "status": "completed"
    },
    "tags": []
   },
   "outputs": [
    {
     "data": {
      "text/plain": [
       "Parch\n",
       "0    678\n",
       "1    118\n",
       "2     80\n",
       "5      5\n",
       "3      5\n",
       "4      4\n",
       "6      1\n",
       "Name: count, dtype: int64"
      ]
     },
     "execution_count": 34,
     "metadata": {},
     "output_type": "execute_result"
    }
   ],
   "source": [
    "train_data.Parch.value_counts()"
   ]
  },
  {
   "cell_type": "code",
   "execution_count": 35,
   "id": "4999b2e3",
   "metadata": {
    "execution": {
     "iopub.execute_input": "2024-02-17T01:16:53.307053Z",
     "iopub.status.busy": "2024-02-17T01:16:53.306565Z",
     "iopub.status.idle": "2024-02-17T01:16:53.838243Z",
     "shell.execute_reply": "2024-02-17T01:16:53.836612Z"
    },
    "papermill": {
     "duration": 0.566414,
     "end_time": "2024-02-17T01:16:53.841109",
     "exception": false,
     "start_time": "2024-02-17T01:16:53.274695",
     "status": "completed"
    },
    "tags": []
   },
   "outputs": [
    {
     "data": {
      "text/plain": [
       "<Axes: xlabel='Parch', ylabel='Survived'>"
      ]
     },
     "execution_count": 35,
     "metadata": {},
     "output_type": "execute_result"
    },
    {
     "data": {
      "image/png": "[encoded data removed]",
      "text/plain": [
       "<Figure size 640x480 with 1 Axes>"
      ]
     },
     "metadata": {},
     "output_type": "display_data"
    }
   ],
   "source": [
    "sns.barplot(data = train_data, x= \"Parch\", y= \"Survived\")"
   ]
  },
  {
   "cell_type": "code",
   "execution_count": 36,
   "id": "6e679104",
   "metadata": {
    "execution": {
     "iopub.execute_input": "2024-02-17T01:16:53.907007Z",
     "iopub.status.busy": "2024-02-17T01:16:53.906531Z",
     "iopub.status.idle": "2024-02-17T01:16:53.917514Z",
     "shell.execute_reply": "2024-02-17T01:16:53.916020Z"
    },
    "papermill": {
     "duration": 0.048665,
     "end_time": "2024-02-17T01:16:53.920232",
     "exception": false,
     "start_time": "2024-02-17T01:16:53.871567",
     "status": "completed"
    },
    "tags": []
   },
   "outputs": [
    {
     "data": {
      "text/plain": [
       "Embarked\n",
       "S    646\n",
       "C    168\n",
       "Q     77\n",
       "Name: count, dtype: int64"
      ]
     },
     "execution_count": 36,
     "metadata": {},
     "output_type": "execute_result"
    }
   ],
   "source": [
    "train_data.Embarked.value_counts()"
   ]
  },
  {
   "cell_type": "code",
   "execution_count": 37,
   "id": "04ef80e6",
   "metadata": {
    "execution": {
     "iopub.execute_input": "2024-02-17T01:16:53.986429Z",
     "iopub.status.busy": "2024-02-17T01:16:53.985497Z",
     "iopub.status.idle": "2024-02-17T01:16:54.530144Z",
     "shell.execute_reply": "2024-02-17T01:16:54.528623Z"
    },
    "papermill": {
     "duration": 0.582317,
     "end_time": "2024-02-17T01:16:54.533145",
     "exception": false,
     "start_time": "2024-02-17T01:16:53.950828",
     "status": "completed"
    },
    "tags": []
   },
   "outputs": [
    {
     "data": {
      "text/plain": [
       "<Axes: xlabel='Embarked', ylabel='Survived'>"
      ]
     },
     "execution_count": 37,
     "metadata": {},
     "output_type": "execute_result"
    },
    {
     "data": {
      "image/png": "[encoded data removed]",
      "text/plain": [
       "<Figure size 640x480 with 1 Axes>"
      ]
     },
     "metadata": {},
     "output_type": "display_data"
    }
   ],
   "source": [
    "sns.barplot(data = train_data, x= \"Embarked\", y= \"Survived\", hue = \"Sex\")"
   ]
  },
  {
   "cell_type": "code",
   "execution_count": 38,
   "id": "5f435886",
   "metadata": {
    "execution": {
     "iopub.execute_input": "2024-02-17T01:16:54.600734Z",
     "iopub.status.busy": "2024-02-17T01:16:54.600226Z",
     "iopub.status.idle": "2024-02-17T01:16:54.613077Z",
     "shell.execute_reply": "2024-02-17T01:16:54.611753Z"
    },
    "papermill": {
     "duration": 0.049234,
     "end_time": "2024-02-17T01:16:54.615659",
     "exception": false,
     "start_time": "2024-02-17T01:16:54.566425",
     "status": "completed"
    },
    "tags": []
   },
   "outputs": [
    {
     "data": {
      "text/plain": [
       "Fare\n",
       "8.0500     43\n",
       "13.0000    42\n",
       "7.8958     38\n",
       "7.7500     34\n",
       "26.0000    31\n",
       "           ..\n",
       "35.0000     1\n",
       "28.5000     1\n",
       "6.2375      1\n",
       "14.0000     1\n",
       "10.5167     1\n",
       "Name: count, Length: 248, dtype: int64"
      ]
     },
     "execution_count": 38,
     "metadata": {},
     "output_type": "execute_result"
    }
   ],
   "source": [
    "train_data.Fare.value_counts(dropna = False)"
   ]
  },
  {
   "cell_type": "code",
   "execution_count": 39,
   "id": "a95e1654",
   "metadata": {
    "execution": {
     "iopub.execute_input": "2024-02-17T01:16:54.682757Z",
     "iopub.status.busy": "2024-02-17T01:16:54.682266Z",
     "iopub.status.idle": "2024-02-17T01:16:54.875449Z",
     "shell.execute_reply": "2024-02-17T01:16:54.873854Z"
    },
    "papermill": {
     "duration": 0.231088,
     "end_time": "2024-02-17T01:16:54.878969",
     "exception": false,
     "start_time": "2024-02-17T01:16:54.647881",
     "status": "completed"
    },
    "tags": []
   },
   "outputs": [
    {
     "data": {
      "text/plain": [
       "<Axes: xlabel='Fare'>"
      ]
     },
     "execution_count": 39,
     "metadata": {},
     "output_type": "execute_result"
    },
    {
     "data": {
      "image/png": "[encoded data removed]",
      "text/plain": [
       "<Figure size 640x480 with 1 Axes>"
      ]
     },
     "metadata": {},
     "output_type": "display_data"
    }
   ],
   "source": [
    "sns.boxplot(data = train_data, x= \"Fare\")"
   ]
  },
  {
   "cell_type": "code",
   "execution_count": 40,
   "id": "3d34252e",
   "metadata": {
    "execution": {
     "iopub.execute_input": "2024-02-17T01:16:54.949147Z",
     "iopub.status.busy": "2024-02-17T01:16:54.948650Z",
     "iopub.status.idle": "2024-02-17T01:16:54.956095Z",
     "shell.execute_reply": "2024-02-17T01:16:54.954618Z"
    },
    "papermill": {
     "duration": 0.046149,
     "end_time": "2024-02-17T01:16:54.958967",
     "exception": false,
     "start_time": "2024-02-17T01:16:54.912818",
     "status": "completed"
    },
    "tags": []
   },
   "outputs": [],
   "source": [
    "Fare_higher_than_100 = train_data[train_data[\"Fare\"]>100]"
   ]
  },
  {
   "cell_type": "code",
   "execution_count": 41,
   "id": "f7843340",
   "metadata": {
    "execution": {
     "iopub.execute_input": "2024-02-17T01:16:55.029492Z",
     "iopub.status.busy": "2024-02-17T01:16:55.028844Z",
     "iopub.status.idle": "2024-02-17T01:16:55.037727Z",
     "shell.execute_reply": "2024-02-17T01:16:55.036432Z"
    },
    "papermill": {
     "duration": 0.047827,
     "end_time": "2024-02-17T01:16:55.040391",
     "exception": false,
     "start_time": "2024-02-17T01:16:54.992564",
     "status": "completed"
    },
    "tags": []
   },
   "outputs": [
    {
     "data": {
      "text/plain": [
       "0.7358490566037735"
      ]
     },
     "execution_count": 41,
     "metadata": {},
     "output_type": "execute_result"
    }
   ],
   "source": [
    "#Survival rate of passenger whose tickets are more than 100 dollars\n",
    "len(Fare_higher_than_100[Fare_higher_than_100[\"Survived\"] == 1])/len(Fare_higher_than_100)"
   ]
  },
  {
   "cell_type": "code",
   "execution_count": 42,
   "id": "d3c33d4c",
   "metadata": {
    "execution": {
     "iopub.execute_input": "2024-02-17T01:16:55.112004Z",
     "iopub.status.busy": "2024-02-17T01:16:55.110406Z",
     "iopub.status.idle": "2024-02-17T01:16:55.118860Z",
     "shell.execute_reply": "2024-02-17T01:16:55.117564Z"
    },
    "papermill": {
     "duration": 0.045309,
     "end_time": "2024-02-17T01:16:55.121265",
     "exception": false,
     "start_time": "2024-02-17T01:16:55.075956",
     "status": "completed"
    },
    "tags": []
   },
   "outputs": [
    {
     "data": {
      "text/plain": [
       "53"
      ]
     },
     "execution_count": 42,
     "metadata": {},
     "output_type": "execute_result"
    }
   ],
   "source": [
    "len(Fare_higher_than_100)"
   ]
  },
  {
   "cell_type": "code",
   "execution_count": 43,
   "id": "7214552b",
   "metadata": {
    "execution": {
     "iopub.execute_input": "2024-02-17T01:16:55.191522Z",
     "iopub.status.busy": "2024-02-17T01:16:55.189944Z",
     "iopub.status.idle": "2024-02-17T01:16:55.200482Z",
     "shell.execute_reply": "2024-02-17T01:16:55.199095Z"
    },
    "papermill": {
     "duration": 0.048294,
     "end_time": "2024-02-17T01:16:55.203120",
     "exception": false,
     "start_time": "2024-02-17T01:16:55.154826",
     "status": "completed"
    },
    "tags": []
   },
   "outputs": [
    {
     "data": {
      "text/plain": [
       "39"
      ]
     },
     "execution_count": 43,
     "metadata": {},
     "output_type": "execute_result"
    }
   ],
   "source": [
    "len(Fare_higher_than_100[Fare_higher_than_100[\"Survived\"] == 1])"
   ]
  },
  {
   "cell_type": "code",
   "execution_count": 44,
   "id": "448eb100",
   "metadata": {
    "execution": {
     "iopub.execute_input": "2024-02-17T01:16:55.273905Z",
     "iopub.status.busy": "2024-02-17T01:16:55.273263Z",
     "iopub.status.idle": "2024-02-17T01:16:55.279255Z",
     "shell.execute_reply": "2024-02-17T01:16:55.278334Z"
    },
    "papermill": {
     "duration": 0.044701,
     "end_time": "2024-02-17T01:16:55.281816",
     "exception": false,
     "start_time": "2024-02-17T01:16:55.237115",
     "status": "completed"
    },
    "tags": []
   },
   "outputs": [],
   "source": [
    "fare_higher_than_200 = train_data[train_data[\"Fare\"]>200]"
   ]
  },
  {
   "cell_type": "code",
   "execution_count": 45,
   "id": "dd107103",
   "metadata": {
    "execution": {
     "iopub.execute_input": "2024-02-17T01:16:55.349820Z",
     "iopub.status.busy": "2024-02-17T01:16:55.349381Z",
     "iopub.status.idle": "2024-02-17T01:16:55.359357Z",
     "shell.execute_reply": "2024-02-17T01:16:55.358421Z"
    },
    "papermill": {
     "duration": 0.046541,
     "end_time": "2024-02-17T01:16:55.361502",
     "exception": false,
     "start_time": "2024-02-17T01:16:55.314961",
     "status": "completed"
    },
    "tags": []
   },
   "outputs": [
    {
     "data": {
      "text/plain": [
       "0.7"
      ]
     },
     "execution_count": 45,
     "metadata": {},
     "output_type": "execute_result"
    }
   ],
   "source": [
    "#Survival rate of passenger whose tickets are more than 200 dollars\n",
    "len(fare_higher_than_200[fare_higher_than_200[\"Survived\"] == 1])/len(fare_higher_than_200)"
   ]
  },
  {
   "cell_type": "code",
   "execution_count": 46,
   "id": "aaa9203c",
   "metadata": {
    "execution": {
     "iopub.execute_input": "2024-02-17T01:16:55.431304Z",
     "iopub.status.busy": "2024-02-17T01:16:55.430329Z",
     "iopub.status.idle": "2024-02-17T01:16:55.934507Z",
     "shell.execute_reply": "2024-02-17T01:16:55.932975Z"
    },
    "papermill": {
     "duration": 0.541404,
     "end_time": "2024-02-17T01:16:55.937267",
     "exception": false,
     "start_time": "2024-02-17T01:16:55.395863",
     "status": "completed"
    },
    "tags": []
   },
   "outputs": [
    {
     "data": {
      "text/plain": [
       "<Axes: xlabel='Fare', ylabel='Count'>"
      ]
     },
     "execution_count": 46,
     "metadata": {},
     "output_type": "execute_result"
    },
    {
     "data": {
      "image/png": "[encoded data removed]",
      "text/plain": [
       "<Figure size 640x480 with 1 Axes>"
      ]
     },
     "metadata": {},
     "output_type": "display_data"
    }
   ],
   "source": [
    "sns.histplot(data = train_data, x=\"Fare\")"
   ]
  },
  {
   "cell_type": "code",
   "execution_count": 47,
   "id": "81dcf5c3",
   "metadata": {
    "execution": {
     "iopub.execute_input": "2024-02-17T01:16:56.009573Z",
     "iopub.status.busy": "2024-02-17T01:16:56.008646Z",
     "iopub.status.idle": "2024-02-17T01:16:56.238925Z",
     "shell.execute_reply": "2024-02-17T01:16:56.237495Z"
    },
    "papermill": {
     "duration": 0.270829,
     "end_time": "2024-02-17T01:16:56.242227",
     "exception": false,
     "start_time": "2024-02-17T01:16:55.971398",
     "status": "completed"
    },
    "tags": []
   },
   "outputs": [
    {
     "data": {
      "text/plain": [
       "<Axes: xlabel='Fare'>"
      ]
     },
     "execution_count": 47,
     "metadata": {},
     "output_type": "execute_result"
    },
    {
     "data": {
      "image/png": "[encoded data removed]",
      "text/plain": [
       "<Figure size 640x480 with 1 Axes>"
      ]
     },
     "metadata": {},
     "output_type": "display_data"
    }
   ],
   "source": [
    "sns.boxplot(data = train_data, x = 'Fare')"
   ]
  },
  {
   "cell_type": "code",
   "execution_count": 48,
   "id": "341d7b62",
   "metadata": {
    "execution": {
     "iopub.execute_input": "2024-02-17T01:16:56.315540Z",
     "iopub.status.busy": "2024-02-17T01:16:56.315085Z",
     "iopub.status.idle": "2024-02-17T01:16:56.327514Z",
     "shell.execute_reply": "2024-02-17T01:16:56.326687Z"
    },
    "papermill": {
     "duration": 0.052345,
     "end_time": "2024-02-17T01:16:56.330034",
     "exception": false,
     "start_time": "2024-02-17T01:16:56.277689",
     "status": "completed"
    },
    "tags": []
   },
   "outputs": [
    {
     "name": "stdout",
     "output_type": "stream",
     "text": [
      "7.9104\n",
      "31.0\n",
      "23.0896\n",
      "-26.724\n",
      "65.6344\n"
     ]
    }
   ],
   "source": [
    "Q1 = train_data['Fare'].quantile(0.25) # Q1 is data's 25% \n",
    "Q3 = train_data['Fare'].quantile(0.75) # Q3 is data's 75%\n",
    "IQR = Q3 - Q1 # Interquartile Range is 50%\n",
    "\n",
    "lower_bound = Q1 - 1.5 * IQR # outlier's lower bound Q1 - 1.5 * IQR\n",
    "upper_bound = Q3 + 1.5 * IQR # outlier's higher bound Q3 + 1.5 * IQR\n",
    "\n",
    "print(Q1)\n",
    "print(Q3)\n",
    "print(IQR)\n",
    "print(lower_bound)\n",
    "print(upper_bound)\n",
    "\n"
   ]
  },
  {
   "cell_type": "code",
   "execution_count": 49,
   "id": "f179f0df",
   "metadata": {
    "execution": {
     "iopub.execute_input": "2024-02-17T01:16:56.403881Z",
     "iopub.status.busy": "2024-02-17T01:16:56.403447Z",
     "iopub.status.idle": "2024-02-17T01:16:56.409593Z",
     "shell.execute_reply": "2024-02-17T01:16:56.408746Z"
    },
    "papermill": {
     "duration": 0.04683,
     "end_time": "2024-02-17T01:16:56.412625",
     "exception": false,
     "start_time": "2024-02-17T01:16:56.365795",
     "status": "completed"
    },
    "tags": []
   },
   "outputs": [],
   "source": [
    "fare_higher_than_upper_bound = train_data[train_data[\"Fare\"]>65]"
   ]
  },
  {
   "cell_type": "code",
   "execution_count": 50,
   "id": "dc04a3c3",
   "metadata": {
    "execution": {
     "iopub.execute_input": "2024-02-17T01:16:56.483619Z",
     "iopub.status.busy": "2024-02-17T01:16:56.483191Z",
     "iopub.status.idle": "2024-02-17T01:16:56.493430Z",
     "shell.execute_reply": "2024-02-17T01:16:56.491768Z"
    },
    "papermill": {
     "duration": 0.049009,
     "end_time": "2024-02-17T01:16:56.496199",
     "exception": false,
     "start_time": "2024-02-17T01:16:56.447190",
     "status": "completed"
    },
    "tags": []
   },
   "outputs": [
    {
     "data": {
      "text/plain": [
       "0.6810344827586207"
      ]
     },
     "execution_count": 50,
     "metadata": {},
     "output_type": "execute_result"
    }
   ],
   "source": [
    "#Survival rate of passenger whose tickets are more than Q3 value(65 dollars)\n",
    "len(fare_higher_than_upper_bound[fare_higher_than_upper_bound[\"Survived\"] == 1])/len(fare_higher_than_upper_bound)"
   ]
  },
  {
   "cell_type": "code",
   "execution_count": 51,
   "id": "2605484a",
   "metadata": {
    "execution": {
     "iopub.execute_input": "2024-02-17T01:16:56.568583Z",
     "iopub.status.busy": "2024-02-17T01:16:56.568158Z",
     "iopub.status.idle": "2024-02-17T01:16:56.575043Z",
     "shell.execute_reply": "2024-02-17T01:16:56.573893Z"
    },
    "papermill": {
     "duration": 0.046094,
     "end_time": "2024-02-17T01:16:56.577535",
     "exception": false,
     "start_time": "2024-02-17T01:16:56.531441",
     "status": "completed"
    },
    "tags": []
   },
   "outputs": [],
   "source": [
    "# Since survival rate of passenger whose tickets are more than Q3 value(65 dollars) is 70 %. \n",
    "# So moving all the outliers to 65 value.\n",
    "\n",
    "train_data[\"Fare\"] = np.where(train_data[\"Fare\"] >65, 65,train_data['Fare'])"
   ]
  },
  {
   "cell_type": "code",
   "execution_count": 52,
   "id": "83bef2c2",
   "metadata": {
    "execution": {
     "iopub.execute_input": "2024-02-17T01:16:56.650465Z",
     "iopub.status.busy": "2024-02-17T01:16:56.650014Z",
     "iopub.status.idle": "2024-02-17T01:16:56.888840Z",
     "shell.execute_reply": "2024-02-17T01:16:56.887742Z"
    },
    "papermill": {
     "duration": 0.278362,
     "end_time": "2024-02-17T01:16:56.891362",
     "exception": false,
     "start_time": "2024-02-17T01:16:56.613000",
     "status": "completed"
    },
    "tags": []
   },
   "outputs": [
    {
     "data": {
      "text/plain": [
       "<Axes: xlabel='Fare'>"
      ]
     },
     "execution_count": 52,
     "metadata": {},
     "output_type": "execute_result"
    },
    {
     "data": {
      "image/png": "[encoded data removed]",
      "text/plain": [
       "<Figure size 640x480 with 1 Axes>"
      ]
     },
     "metadata": {},
     "output_type": "display_data"
    }
   ],
   "source": [
    "sns.boxplot(data = train_data, x = \"Fare\")"
   ]
  },
  {
   "cell_type": "markdown",
   "id": "56ed60b7",
   "metadata": {
    "papermill": {
     "duration": 0.033658,
     "end_time": "2024-02-17T01:16:56.958713",
     "exception": false,
     "start_time": "2024-02-17T01:16:56.925055",
     "status": "completed"
    },
    "tags": []
   },
   "source": [
    "#INSIGHTS\n",
    "\n",
    "1. Females are more probabale to survive the accident compared to Male.\n",
    "2. Better Class you are travelling on, better chance of survival.\n",
    "3. Irrespective of Class they are travelling on, females have equal chance of survival.\n",
    "3. If you have more siblings or spouse, the odds of survival are lesser.\n",
    "4. Most of the passengers travelling are of age 30-35"
   ]
  },
  {
   "cell_type": "code",
   "execution_count": 53,
   "id": "cabe9a0b",
   "metadata": {
    "execution": {
     "iopub.execute_input": "2024-02-17T01:16:57.030287Z",
     "iopub.status.busy": "2024-02-17T01:16:57.028724Z",
     "iopub.status.idle": "2024-02-17T01:16:57.036380Z",
     "shell.execute_reply": "2024-02-17T01:16:57.035421Z"
    },
    "papermill": {
     "duration": 0.046489,
     "end_time": "2024-02-17T01:16:57.038793",
     "exception": false,
     "start_time": "2024-02-17T01:16:56.992304",
     "status": "completed"
    },
    "tags": []
   },
   "outputs": [
    {
     "data": {
      "text/plain": [
       "Index(['PassengerId', 'Survived', 'Pclass', 'Name', 'Sex', 'Age', 'SibSp',\n",
       "       'Parch', 'Ticket', 'Fare', 'Embarked', 'AgeGroup'],\n",
       "      dtype='object')"
      ]
     },
     "execution_count": 53,
     "metadata": {},
     "output_type": "execute_result"
    }
   ],
   "source": [
    "train_data.columns"
   ]
  },
  {
   "cell_type": "code",
   "execution_count": 54,
   "id": "2bfc10e0",
   "metadata": {
    "execution": {
     "iopub.execute_input": "2024-02-17T01:16:57.111397Z",
     "iopub.status.busy": "2024-02-17T01:16:57.110682Z",
     "iopub.status.idle": "2024-02-17T01:16:57.115197Z",
     "shell.execute_reply": "2024-02-17T01:16:57.114353Z"
    },
    "papermill": {
     "duration": 0.043264,
     "end_time": "2024-02-17T01:16:57.117521",
     "exception": false,
     "start_time": "2024-02-17T01:16:57.074257",
     "status": "completed"
    },
    "tags": []
   },
   "outputs": [],
   "source": [
    "useful_columns = ['Survived', 'Pclass','Fare', 'Embarked', 'Age', 'Sex','SibSp']"
   ]
  },
  {
   "cell_type": "code",
   "execution_count": 55,
   "id": "09371aba",
   "metadata": {
    "execution": {
     "iopub.execute_input": "2024-02-17T01:16:57.191381Z",
     "iopub.status.busy": "2024-02-17T01:16:57.190376Z",
     "iopub.status.idle": "2024-02-17T01:16:57.197069Z",
     "shell.execute_reply": "2024-02-17T01:16:57.195922Z"
    },
    "papermill": {
     "duration": 0.046841,
     "end_time": "2024-02-17T01:16:57.199763",
     "exception": false,
     "start_time": "2024-02-17T01:16:57.152922",
     "status": "completed"
    },
    "tags": []
   },
   "outputs": [],
   "source": [
    "df_final = train_data[useful_columns]"
   ]
  },
  {
   "cell_type": "markdown",
   "id": "0a84eae5",
   "metadata": {
    "papermill": {
     "duration": 0.034398,
     "end_time": "2024-02-17T01:16:57.270461",
     "exception": false,
     "start_time": "2024-02-17T01:16:57.236063",
     "status": "completed"
    },
    "tags": []
   },
   "source": []
  },
  {
   "cell_type": "code",
   "execution_count": 56,
   "id": "0f1075fb",
   "metadata": {
    "execution": {
     "iopub.execute_input": "2024-02-17T01:16:57.342577Z",
     "iopub.status.busy": "2024-02-17T01:16:57.341772Z",
     "iopub.status.idle": "2024-02-17T01:16:57.356749Z",
     "shell.execute_reply": "2024-02-17T01:16:57.355535Z"
    },
    "papermill": {
     "duration": 0.054229,
     "end_time": "2024-02-17T01:16:57.359488",
     "exception": false,
     "start_time": "2024-02-17T01:16:57.305259",
     "status": "completed"
    },
    "tags": []
   },
   "outputs": [
    {
     "data": {
      "text/html": [
       "<div>\n",
       "<style scoped>\n",
       "    .dataframe tbody tr th:only-of-type {\n",
       "        vertical-align: middle;\n",
       "    }\n",
       "\n",
       "    .dataframe tbody tr th {\n",
       "        vertical-align: top;\n",
       "    }\n",
       "\n",
       "    .dataframe thead th {\n",
       "        text-align: right;\n",
       "    }\n",
       "</style>\n",
       "<table border=\"1\" class=\"dataframe\">\n",
       "  <thead>\n",
       "    <tr style=\"text-align: right;\">\n",
       "      <th></th>\n",
       "      <th>Survived</th>\n",
       "      <th>Pclass</th>\n",
       "      <th>Fare</th>\n",
       "      <th>Embarked</th>\n",
       "      <th>Age</th>\n",
       "      <th>Sex</th>\n",
       "      <th>SibSp</th>\n",
       "    </tr>\n",
       "  </thead>\n",
       "  <tbody>\n",
       "    <tr>\n",
       "      <th>0</th>\n",
       "      <td>0</td>\n",
       "      <td>3</td>\n",
       "      <td>7.250</td>\n",
       "      <td>S</td>\n",
       "      <td>22.0</td>\n",
       "      <td>male</td>\n",
       "      <td>1</td>\n",
       "    </tr>\n",
       "    <tr>\n",
       "      <th>1</th>\n",
       "      <td>1</td>\n",
       "      <td>1</td>\n",
       "      <td>65.000</td>\n",
       "      <td>C</td>\n",
       "      <td>38.0</td>\n",
       "      <td>female</td>\n",
       "      <td>1</td>\n",
       "    </tr>\n",
       "    <tr>\n",
       "      <th>2</th>\n",
       "      <td>1</td>\n",
       "      <td>3</td>\n",
       "      <td>7.925</td>\n",
       "      <td>S</td>\n",
       "      <td>26.0</td>\n",
       "      <td>female</td>\n",
       "      <td>0</td>\n",
       "    </tr>\n",
       "    <tr>\n",
       "      <th>3</th>\n",
       "      <td>1</td>\n",
       "      <td>1</td>\n",
       "      <td>53.100</td>\n",
       "      <td>S</td>\n",
       "      <td>35.0</td>\n",
       "      <td>female</td>\n",
       "      <td>1</td>\n",
       "    </tr>\n",
       "    <tr>\n",
       "      <th>4</th>\n",
       "      <td>0</td>\n",
       "      <td>3</td>\n",
       "      <td>8.050</td>\n",
       "      <td>S</td>\n",
       "      <td>35.0</td>\n",
       "      <td>male</td>\n",
       "      <td>0</td>\n",
       "    </tr>\n",
       "  </tbody>\n",
       "</table>\n",
       "</div>"
      ],
      "text/plain": [
       "   Survived  Pclass    Fare Embarked   Age     Sex  SibSp\n",
       "0         0       3   7.250        S  22.0    male      1\n",
       "1         1       1  65.000        C  38.0  female      1\n",
       "2         1       3   7.925        S  26.0  female      0\n",
       "3         1       1  53.100        S  35.0  female      1\n",
       "4         0       3   8.050        S  35.0    male      0"
      ]
     },
     "execution_count": 56,
     "metadata": {},
     "output_type": "execute_result"
    }
   ],
   "source": [
    "df_final.head()"
   ]
  },
  {
   "cell_type": "code",
   "execution_count": 57,
   "id": "71b09065",
   "metadata": {
    "execution": {
     "iopub.execute_input": "2024-02-17T01:16:57.432937Z",
     "iopub.status.busy": "2024-02-17T01:16:57.432490Z",
     "iopub.status.idle": "2024-02-17T01:16:57.453979Z",
     "shell.execute_reply": "2024-02-17T01:16:57.452838Z"
    },
    "papermill": {
     "duration": 0.060891,
     "end_time": "2024-02-17T01:16:57.456631",
     "exception": false,
     "start_time": "2024-02-17T01:16:57.395740",
     "status": "completed"
    },
    "tags": []
   },
   "outputs": [
    {
     "data": {
      "text/html": [
       "<div>\n",
       "<style scoped>\n",
       "    .dataframe tbody tr th:only-of-type {\n",
       "        vertical-align: middle;\n",
       "    }\n",
       "\n",
       "    .dataframe tbody tr th {\n",
       "        vertical-align: top;\n",
       "    }\n",
       "\n",
       "    .dataframe thead th {\n",
       "        text-align: right;\n",
       "    }\n",
       "</style>\n",
       "<table border=\"1\" class=\"dataframe\">\n",
       "  <thead>\n",
       "    <tr style=\"text-align: right;\">\n",
       "      <th></th>\n",
       "      <th>Survived</th>\n",
       "      <th>Pclass</th>\n",
       "      <th>Fare</th>\n",
       "      <th>Age</th>\n",
       "      <th>SibSp</th>\n",
       "      <th>Embarked_C</th>\n",
       "      <th>Embarked_Q</th>\n",
       "      <th>Embarked_S</th>\n",
       "      <th>Sex_female</th>\n",
       "      <th>Sex_male</th>\n",
       "    </tr>\n",
       "  </thead>\n",
       "  <tbody>\n",
       "    <tr>\n",
       "      <th>0</th>\n",
       "      <td>0</td>\n",
       "      <td>3</td>\n",
       "      <td>7.250</td>\n",
       "      <td>22.0</td>\n",
       "      <td>1</td>\n",
       "      <td>False</td>\n",
       "      <td>False</td>\n",
       "      <td>True</td>\n",
       "      <td>False</td>\n",
       "      <td>True</td>\n",
       "    </tr>\n",
       "    <tr>\n",
       "      <th>1</th>\n",
       "      <td>1</td>\n",
       "      <td>1</td>\n",
       "      <td>65.000</td>\n",
       "      <td>38.0</td>\n",
       "      <td>1</td>\n",
       "      <td>True</td>\n",
       "      <td>False</td>\n",
       "      <td>False</td>\n",
       "      <td>True</td>\n",
       "      <td>False</td>\n",
       "    </tr>\n",
       "    <tr>\n",
       "      <th>2</th>\n",
       "      <td>1</td>\n",
       "      <td>3</td>\n",
       "      <td>7.925</td>\n",
       "      <td>26.0</td>\n",
       "      <td>0</td>\n",
       "      <td>False</td>\n",
       "      <td>False</td>\n",
       "      <td>True</td>\n",
       "      <td>True</td>\n",
       "      <td>False</td>\n",
       "    </tr>\n",
       "    <tr>\n",
       "      <th>3</th>\n",
       "      <td>1</td>\n",
       "      <td>1</td>\n",
       "      <td>53.100</td>\n",
       "      <td>35.0</td>\n",
       "      <td>1</td>\n",
       "      <td>False</td>\n",
       "      <td>False</td>\n",
       "      <td>True</td>\n",
       "      <td>True</td>\n",
       "      <td>False</td>\n",
       "    </tr>\n",
       "    <tr>\n",
       "      <th>4</th>\n",
       "      <td>0</td>\n",
       "      <td>3</td>\n",
       "      <td>8.050</td>\n",
       "      <td>35.0</td>\n",
       "      <td>0</td>\n",
       "      <td>False</td>\n",
       "      <td>False</td>\n",
       "      <td>True</td>\n",
       "      <td>False</td>\n",
       "      <td>True</td>\n",
       "    </tr>\n",
       "  </tbody>\n",
       "</table>\n",
       "</div>"
      ],
      "text/plain": [
       "   Survived  Pclass    Fare   Age  SibSp  Embarked_C  Embarked_Q  Embarked_S  \\\n",
       "0         0       3   7.250  22.0      1       False       False        True   \n",
       "1         1       1  65.000  38.0      1        True       False       False   \n",
       "2         1       3   7.925  26.0      0       False       False        True   \n",
       "3         1       1  53.100  35.0      1       False       False        True   \n",
       "4         0       3   8.050  35.0      0       False       False        True   \n",
       "\n",
       "   Sex_female  Sex_male  \n",
       "0       False      True  \n",
       "1        True     False  \n",
       "2        True     False  \n",
       "3        True     False  \n",
       "4       False      True  "
      ]
     },
     "execution_count": 57,
     "metadata": {},
     "output_type": "execute_result"
    }
   ],
   "source": [
    "df_final = pd.get_dummies(df_final)\n",
    "\n",
    "df_final.head()"
   ]
  },
  {
   "cell_type": "code",
   "execution_count": 58,
   "id": "afd9090a",
   "metadata": {
    "execution": {
     "iopub.execute_input": "2024-02-17T01:16:57.531841Z",
     "iopub.status.busy": "2024-02-17T01:16:57.530311Z",
     "iopub.status.idle": "2024-02-17T01:16:57.555121Z",
     "shell.execute_reply": "2024-02-17T01:16:57.553771Z"
    },
    "papermill": {
     "duration": 0.066137,
     "end_time": "2024-02-17T01:16:57.558272",
     "exception": false,
     "start_time": "2024-02-17T01:16:57.492135",
     "status": "completed"
    },
    "tags": []
   },
   "outputs": [
    {
     "data": {
      "text/html": [
       "<div>\n",
       "<style scoped>\n",
       "    .dataframe tbody tr th:only-of-type {\n",
       "        vertical-align: middle;\n",
       "    }\n",
       "\n",
       "    .dataframe tbody tr th {\n",
       "        vertical-align: top;\n",
       "    }\n",
       "\n",
       "    .dataframe thead th {\n",
       "        text-align: right;\n",
       "    }\n",
       "</style>\n",
       "<table border=\"1\" class=\"dataframe\">\n",
       "  <thead>\n",
       "    <tr style=\"text-align: right;\">\n",
       "      <th></th>\n",
       "      <th>Survived</th>\n",
       "      <th>Pclass</th>\n",
       "      <th>Fare</th>\n",
       "      <th>Age</th>\n",
       "      <th>SibSp</th>\n",
       "      <th>Embarked_C</th>\n",
       "      <th>Embarked_Q</th>\n",
       "      <th>Embarked_S</th>\n",
       "      <th>Sex_female</th>\n",
       "      <th>Sex_male</th>\n",
       "    </tr>\n",
       "  </thead>\n",
       "  <tbody>\n",
       "    <tr>\n",
       "      <th>Survived</th>\n",
       "      <td>1.000000</td>\n",
       "      <td>-0.338481</td>\n",
       "      <td>0.317561</td>\n",
       "      <td>-0.069809</td>\n",
       "      <td>-0.035322</td>\n",
       "      <td>0.168240</td>\n",
       "      <td>0.003650</td>\n",
       "      <td>-0.149683</td>\n",
       "      <td>0.543351</td>\n",
       "      <td>-0.543351</td>\n",
       "    </tr>\n",
       "    <tr>\n",
       "      <th>Pclass</th>\n",
       "      <td>-0.338481</td>\n",
       "      <td>1.000000</td>\n",
       "      <td>-0.715624</td>\n",
       "      <td>-0.331339</td>\n",
       "      <td>0.083081</td>\n",
       "      <td>-0.243292</td>\n",
       "      <td>0.221009</td>\n",
       "      <td>0.074053</td>\n",
       "      <td>-0.131900</td>\n",
       "      <td>0.131900</td>\n",
       "    </tr>\n",
       "    <tr>\n",
       "      <th>Fare</th>\n",
       "      <td>0.317561</td>\n",
       "      <td>-0.715624</td>\n",
       "      <td>1.000000</td>\n",
       "      <td>0.137642</td>\n",
       "      <td>0.332647</td>\n",
       "      <td>0.263075</td>\n",
       "      <td>-0.171750</td>\n",
       "      <td>-0.122382</td>\n",
       "      <td>0.234768</td>\n",
       "      <td>-0.234768</td>\n",
       "    </tr>\n",
       "    <tr>\n",
       "      <th>Age</th>\n",
       "      <td>-0.069809</td>\n",
       "      <td>-0.331339</td>\n",
       "      <td>0.137642</td>\n",
       "      <td>1.000000</td>\n",
       "      <td>-0.232625</td>\n",
       "      <td>0.032024</td>\n",
       "      <td>-0.013855</td>\n",
       "      <td>-0.019336</td>\n",
       "      <td>-0.084153</td>\n",
       "      <td>0.084153</td>\n",
       "    </tr>\n",
       "    <tr>\n",
       "      <th>SibSp</th>\n",
       "      <td>-0.035322</td>\n",
       "      <td>0.083081</td>\n",
       "      <td>0.332647</td>\n",
       "      <td>-0.232625</td>\n",
       "      <td>1.000000</td>\n",
       "      <td>-0.059528</td>\n",
       "      <td>-0.026354</td>\n",
       "      <td>0.068734</td>\n",
       "      <td>0.114631</td>\n",
       "      <td>-0.114631</td>\n",
       "    </tr>\n",
       "    <tr>\n",
       "      <th>Embarked_C</th>\n",
       "      <td>0.168240</td>\n",
       "      <td>-0.243292</td>\n",
       "      <td>0.263075</td>\n",
       "      <td>0.032024</td>\n",
       "      <td>-0.059528</td>\n",
       "      <td>1.000000</td>\n",
       "      <td>-0.148258</td>\n",
       "      <td>-0.782742</td>\n",
       "      <td>0.082853</td>\n",
       "      <td>-0.082853</td>\n",
       "    </tr>\n",
       "    <tr>\n",
       "      <th>Embarked_Q</th>\n",
       "      <td>0.003650</td>\n",
       "      <td>0.221009</td>\n",
       "      <td>-0.171750</td>\n",
       "      <td>-0.013855</td>\n",
       "      <td>-0.026354</td>\n",
       "      <td>-0.148258</td>\n",
       "      <td>1.000000</td>\n",
       "      <td>-0.499421</td>\n",
       "      <td>0.074115</td>\n",
       "      <td>-0.074115</td>\n",
       "    </tr>\n",
       "    <tr>\n",
       "      <th>Embarked_S</th>\n",
       "      <td>-0.149683</td>\n",
       "      <td>0.074053</td>\n",
       "      <td>-0.122382</td>\n",
       "      <td>-0.019336</td>\n",
       "      <td>0.068734</td>\n",
       "      <td>-0.782742</td>\n",
       "      <td>-0.499421</td>\n",
       "      <td>1.000000</td>\n",
       "      <td>-0.119224</td>\n",
       "      <td>0.119224</td>\n",
       "    </tr>\n",
       "    <tr>\n",
       "      <th>Sex_female</th>\n",
       "      <td>0.543351</td>\n",
       "      <td>-0.131900</td>\n",
       "      <td>0.234768</td>\n",
       "      <td>-0.084153</td>\n",
       "      <td>0.114631</td>\n",
       "      <td>0.082853</td>\n",
       "      <td>0.074115</td>\n",
       "      <td>-0.119224</td>\n",
       "      <td>1.000000</td>\n",
       "      <td>-1.000000</td>\n",
       "    </tr>\n",
       "    <tr>\n",
       "      <th>Sex_male</th>\n",
       "      <td>-0.543351</td>\n",
       "      <td>0.131900</td>\n",
       "      <td>-0.234768</td>\n",
       "      <td>0.084153</td>\n",
       "      <td>-0.114631</td>\n",
       "      <td>-0.082853</td>\n",
       "      <td>-0.074115</td>\n",
       "      <td>0.119224</td>\n",
       "      <td>-1.000000</td>\n",
       "      <td>1.000000</td>\n",
       "    </tr>\n",
       "  </tbody>\n",
       "</table>\n",
       "</div>"
      ],
      "text/plain": [
       "            Survived    Pclass      Fare       Age     SibSp  Embarked_C  \\\n",
       "Survived    1.000000 -0.338481  0.317561 -0.069809 -0.035322    0.168240   \n",
       "Pclass     -0.338481  1.000000 -0.715624 -0.331339  0.083081   -0.243292   \n",
       "Fare        0.317561 -0.715624  1.000000  0.137642  0.332647    0.263075   \n",
       "Age        -0.069809 -0.331339  0.137642  1.000000 -0.232625    0.032024   \n",
       "SibSp      -0.035322  0.083081  0.332647 -0.232625  1.000000   -0.059528   \n",
       "Embarked_C  0.168240 -0.243292  0.263075  0.032024 -0.059528    1.000000   \n",
       "Embarked_Q  0.003650  0.221009 -0.171750 -0.013855 -0.026354   -0.148258   \n",
       "Embarked_S -0.149683  0.074053 -0.122382 -0.019336  0.068734   -0.782742   \n",
       "Sex_female  0.543351 -0.131900  0.234768 -0.084153  0.114631    0.082853   \n",
       "Sex_male   -0.543351  0.131900 -0.234768  0.084153 -0.114631   -0.082853   \n",
       "\n",
       "            Embarked_Q  Embarked_S  Sex_female  Sex_male  \n",
       "Survived      0.003650   -0.149683    0.543351 -0.543351  \n",
       "Pclass        0.221009    0.074053   -0.131900  0.131900  \n",
       "Fare         -0.171750   -0.122382    0.234768 -0.234768  \n",
       "Age          -0.013855   -0.019336   -0.084153  0.084153  \n",
       "SibSp        -0.026354    0.068734    0.114631 -0.114631  \n",
       "Embarked_C   -0.148258   -0.782742    0.082853 -0.082853  \n",
       "Embarked_Q    1.000000   -0.499421    0.074115 -0.074115  \n",
       "Embarked_S   -0.499421    1.000000   -0.119224  0.119224  \n",
       "Sex_female    0.074115   -0.119224    1.000000 -1.000000  \n",
       "Sex_male     -0.074115    0.119224   -1.000000  1.000000  "
      ]
     },
     "execution_count": 58,
     "metadata": {},
     "output_type": "execute_result"
    }
   ],
   "source": [
    "df_final.corr()"
   ]
  },
  {
   "cell_type": "code",
   "execution_count": 59,
   "id": "979d886a",
   "metadata": {
    "execution": {
     "iopub.execute_input": "2024-02-17T01:16:57.632909Z",
     "iopub.status.busy": "2024-02-17T01:16:57.632391Z",
     "iopub.status.idle": "2024-02-17T01:16:58.146618Z",
     "shell.execute_reply": "2024-02-17T01:16:58.145140Z"
    },
    "papermill": {
     "duration": 0.555085,
     "end_time": "2024-02-17T01:16:58.149663",
     "exception": false,
     "start_time": "2024-02-17T01:16:57.594578",
     "status": "completed"
    },
    "tags": []
   },
   "outputs": [
    {
     "data": {
      "text/plain": [
       "<Axes: >"
      ]
     },
     "execution_count": 59,
     "metadata": {},
     "output_type": "execute_result"
    },
    {
     "data": {
      "image/png": "[encoded data removed]",
      "text/plain": [
       "<Figure size 640x480 with 2 Axes>"
      ]
     },
     "metadata": {},
     "output_type": "display_data"
    }
   ],
   "source": [
    "sns.heatmap(df_final.corr(),cmap = 'coolwarm')"
   ]
  },
  {
   "cell_type": "code",
   "execution_count": 60,
   "id": "8d20880e",
   "metadata": {
    "execution": {
     "iopub.execute_input": "2024-02-17T01:16:58.231906Z",
     "iopub.status.busy": "2024-02-17T01:16:58.231421Z",
     "iopub.status.idle": "2024-02-17T01:16:58.245265Z",
     "shell.execute_reply": "2024-02-17T01:16:58.244095Z"
    },
    "papermill": {
     "duration": 0.060108,
     "end_time": "2024-02-17T01:16:58.247655",
     "exception": false,
     "start_time": "2024-02-17T01:16:58.187547",
     "status": "completed"
    },
    "tags": []
   },
   "outputs": [
    {
     "data": {
      "text/html": [
       "<div>\n",
       "<style scoped>\n",
       "    .dataframe tbody tr th:only-of-type {\n",
       "        vertical-align: middle;\n",
       "    }\n",
       "\n",
       "    .dataframe tbody tr th {\n",
       "        vertical-align: top;\n",
       "    }\n",
       "\n",
       "    .dataframe thead th {\n",
       "        text-align: right;\n",
       "    }\n",
       "</style>\n",
       "<table border=\"1\" class=\"dataframe\">\n",
       "  <thead>\n",
       "    <tr style=\"text-align: right;\">\n",
       "      <th></th>\n",
       "      <th>Survived</th>\n",
       "    </tr>\n",
       "  </thead>\n",
       "  <tbody>\n",
       "    <tr>\n",
       "      <th>Sex_male</th>\n",
       "      <td>-0.543351</td>\n",
       "    </tr>\n",
       "    <tr>\n",
       "      <th>Pclass</th>\n",
       "      <td>-0.338481</td>\n",
       "    </tr>\n",
       "    <tr>\n",
       "      <th>Embarked_S</th>\n",
       "      <td>-0.149683</td>\n",
       "    </tr>\n",
       "    <tr>\n",
       "      <th>Age</th>\n",
       "      <td>-0.069809</td>\n",
       "    </tr>\n",
       "    <tr>\n",
       "      <th>SibSp</th>\n",
       "      <td>-0.035322</td>\n",
       "    </tr>\n",
       "    <tr>\n",
       "      <th>Embarked_Q</th>\n",
       "      <td>0.003650</td>\n",
       "    </tr>\n",
       "    <tr>\n",
       "      <th>Embarked_C</th>\n",
       "      <td>0.168240</td>\n",
       "    </tr>\n",
       "    <tr>\n",
       "      <th>Fare</th>\n",
       "      <td>0.317561</td>\n",
       "    </tr>\n",
       "    <tr>\n",
       "      <th>Sex_female</th>\n",
       "      <td>0.543351</td>\n",
       "    </tr>\n",
       "    <tr>\n",
       "      <th>Survived</th>\n",
       "      <td>1.000000</td>\n",
       "    </tr>\n",
       "  </tbody>\n",
       "</table>\n",
       "</div>"
      ],
      "text/plain": [
       "            Survived\n",
       "Sex_male   -0.543351\n",
       "Pclass     -0.338481\n",
       "Embarked_S -0.149683\n",
       "Age        -0.069809\n",
       "SibSp      -0.035322\n",
       "Embarked_Q  0.003650\n",
       "Embarked_C  0.168240\n",
       "Fare        0.317561\n",
       "Sex_female  0.543351\n",
       "Survived    1.000000"
      ]
     },
     "execution_count": 60,
     "metadata": {},
     "output_type": "execute_result"
    }
   ],
   "source": [
    "df_final.corr()['Survived'].sort_values(ascending = True).to_frame()"
   ]
  },
  {
   "cell_type": "code",
   "execution_count": 61,
   "id": "f39112e1",
   "metadata": {
    "execution": {
     "iopub.execute_input": "2024-02-17T01:16:58.324487Z",
     "iopub.status.busy": "2024-02-17T01:16:58.324064Z",
     "iopub.status.idle": "2024-02-17T01:16:59.174763Z",
     "shell.execute_reply": "2024-02-17T01:16:59.173389Z"
    },
    "papermill": {
     "duration": 0.892915,
     "end_time": "2024-02-17T01:16:59.178068",
     "exception": false,
     "start_time": "2024-02-17T01:16:58.285153",
     "status": "completed"
    },
    "tags": []
   },
   "outputs": [],
   "source": [
    "# Data Preprocessing\n",
    "from sklearn.model_selection import train_test_split\n",
    "from sklearn.preprocessing import StandardScaler\n",
    "from sklearn.preprocessing import OneHotEncoder, LabelEncoder\n",
    "from sklearn import feature_selection\n",
    "from sklearn import model_selection\n",
    "from sklearn.ensemble import RandomForestClassifier, AdaBoostClassifier, GradientBoostingClassifier, ExtraTreesClassifier"
   ]
  },
  {
   "cell_type": "code",
   "execution_count": 62,
   "id": "10b12ad7",
   "metadata": {
    "execution": {
     "iopub.execute_input": "2024-02-17T01:16:59.255860Z",
     "iopub.status.busy": "2024-02-17T01:16:59.255338Z",
     "iopub.status.idle": "2024-02-17T01:16:59.263269Z",
     "shell.execute_reply": "2024-02-17T01:16:59.261941Z"
    },
    "papermill": {
     "duration": 0.050183,
     "end_time": "2024-02-17T01:16:59.266072",
     "exception": false,
     "start_time": "2024-02-17T01:16:59.215889",
     "status": "completed"
    },
    "tags": []
   },
   "outputs": [],
   "source": [
    "X = df_final.drop('Survived', axis = 1)\n",
    "y = df_final['Survived']"
   ]
  },
  {
   "cell_type": "code",
   "execution_count": 63,
   "id": "801af0e0",
   "metadata": {
    "execution": {
     "iopub.execute_input": "2024-02-17T01:16:59.346927Z",
     "iopub.status.busy": "2024-02-17T01:16:59.346508Z",
     "iopub.status.idle": "2024-02-17T01:16:59.354440Z",
     "shell.execute_reply": "2024-02-17T01:16:59.353225Z"
    },
    "papermill": {
     "duration": 0.050723,
     "end_time": "2024-02-17T01:16:59.357272",
     "exception": false,
     "start_time": "2024-02-17T01:16:59.306549",
     "status": "completed"
    },
    "tags": []
   },
   "outputs": [],
   "source": [
    "X_train, X_test, y_train, y_test = train_test_split(X, y, test_size=0.33, random_state=42)"
   ]
  },
  {
   "cell_type": "code",
   "execution_count": 64,
   "id": "a8aa5edd",
   "metadata": {
    "execution": {
     "iopub.execute_input": "2024-02-17T01:16:59.436762Z",
     "iopub.status.busy": "2024-02-17T01:16:59.436302Z",
     "iopub.status.idle": "2024-02-17T01:16:59.453398Z",
     "shell.execute_reply": "2024-02-17T01:16:59.452155Z"
    },
    "papermill": {
     "duration": 0.061164,
     "end_time": "2024-02-17T01:16:59.455911",
     "exception": false,
     "start_time": "2024-02-17T01:16:59.394747",
     "status": "completed"
    },
    "tags": []
   },
   "outputs": [
    {
     "data": {
      "text/html": [
       "<div>\n",
       "<style scoped>\n",
       "    .dataframe tbody tr th:only-of-type {\n",
       "        vertical-align: middle;\n",
       "    }\n",
       "\n",
       "    .dataframe tbody tr th {\n",
       "        vertical-align: top;\n",
       "    }\n",
       "\n",
       "    .dataframe thead th {\n",
       "        text-align: right;\n",
       "    }\n",
       "</style>\n",
       "<table border=\"1\" class=\"dataframe\">\n",
       "  <thead>\n",
       "    <tr style=\"text-align: right;\">\n",
       "      <th></th>\n",
       "      <th>Pclass</th>\n",
       "      <th>Fare</th>\n",
       "      <th>Age</th>\n",
       "      <th>SibSp</th>\n",
       "      <th>Embarked_C</th>\n",
       "      <th>Embarked_Q</th>\n",
       "      <th>Embarked_S</th>\n",
       "      <th>Sex_female</th>\n",
       "      <th>Sex_male</th>\n",
       "    </tr>\n",
       "  </thead>\n",
       "  <tbody>\n",
       "    <tr>\n",
       "      <th>6</th>\n",
       "      <td>1</td>\n",
       "      <td>51.8625</td>\n",
       "      <td>54.000000</td>\n",
       "      <td>0</td>\n",
       "      <td>False</td>\n",
       "      <td>False</td>\n",
       "      <td>True</td>\n",
       "      <td>False</td>\n",
       "      <td>True</td>\n",
       "    </tr>\n",
       "    <tr>\n",
       "      <th>718</th>\n",
       "      <td>3</td>\n",
       "      <td>15.5000</td>\n",
       "      <td>29.699118</td>\n",
       "      <td>0</td>\n",
       "      <td>False</td>\n",
       "      <td>True</td>\n",
       "      <td>False</td>\n",
       "      <td>False</td>\n",
       "      <td>True</td>\n",
       "    </tr>\n",
       "    <tr>\n",
       "      <th>685</th>\n",
       "      <td>2</td>\n",
       "      <td>41.5792</td>\n",
       "      <td>25.000000</td>\n",
       "      <td>1</td>\n",
       "      <td>True</td>\n",
       "      <td>False</td>\n",
       "      <td>False</td>\n",
       "      <td>False</td>\n",
       "      <td>True</td>\n",
       "    </tr>\n",
       "    <tr>\n",
       "      <th>73</th>\n",
       "      <td>3</td>\n",
       "      <td>14.4542</td>\n",
       "      <td>26.000000</td>\n",
       "      <td>1</td>\n",
       "      <td>True</td>\n",
       "      <td>False</td>\n",
       "      <td>False</td>\n",
       "      <td>False</td>\n",
       "      <td>True</td>\n",
       "    </tr>\n",
       "    <tr>\n",
       "      <th>882</th>\n",
       "      <td>3</td>\n",
       "      <td>10.5167</td>\n",
       "      <td>22.000000</td>\n",
       "      <td>0</td>\n",
       "      <td>False</td>\n",
       "      <td>False</td>\n",
       "      <td>True</td>\n",
       "      <td>True</td>\n",
       "      <td>False</td>\n",
       "    </tr>\n",
       "  </tbody>\n",
       "</table>\n",
       "</div>"
      ],
      "text/plain": [
       "     Pclass     Fare        Age  SibSp  Embarked_C  Embarked_Q  Embarked_S  \\\n",
       "6         1  51.8625  54.000000      0       False       False        True   \n",
       "718       3  15.5000  29.699118      0       False        True       False   \n",
       "685       2  41.5792  25.000000      1        True       False       False   \n",
       "73        3  14.4542  26.000000      1        True       False       False   \n",
       "882       3  10.5167  22.000000      0       False       False        True   \n",
       "\n",
       "     Sex_female  Sex_male  \n",
       "6         False      True  \n",
       "718       False      True  \n",
       "685       False      True  \n",
       "73        False      True  \n",
       "882        True     False  "
      ]
     },
     "execution_count": 64,
     "metadata": {},
     "output_type": "execute_result"
    }
   ],
   "source": [
    "X_train.head()"
   ]
  },
  {
   "cell_type": "code",
   "execution_count": null,
   "id": "0e93b3b5",
   "metadata": {
    "papermill": {
     "duration": 0.037378,
     "end_time": "2024-02-17T01:16:59.530683",
     "exception": false,
     "start_time": "2024-02-17T01:16:59.493305",
     "status": "completed"
    },
    "tags": []
   },
   "outputs": [],
   "source": []
  }
 ],
 "metadata": {
  "kaggle": {
   "accelerator": "none",
   "dataSources": [
    {
     "databundleVersionId": 26502,
     "sourceId": 3136,
     "sourceType": "competition"
    }
   ],
   "dockerImageVersionId": 30635,
   "isGpuEnabled": false,
   "isInternetEnabled": false,
   "language": "python",
   "sourceType": "notebook"
  },
  "kernelspec": {
   "display_name": "Python 3",
   "language": "python",
   "name": "python3"
  },
  "language_info": {
   "codemirror_mode": {
    "name": "ipython",
    "version": 3
   },
   "file_extension": ".py",
   "mimetype": "text/x-python",
   "name": "python",
   "nbconvert_exporter": "python",
   "pygments_lexer": "ipython3",
   "version": "3.10.12"
  },
  "papermill": {
   "default_parameters": {},
   "duration": 24.636456,
   "end_time": "2024-02-17T01:17:00.695115",
   "environment_variables": {},
   "exception": null,
   "input_path": "__notebook__.ipynb",
   "output_path": "__notebook__.ipynb",
   "parameters": {},
   "start_time": "2024-02-17T01:16:36.058659",
   "version": "2.4.0"
  }
 },
 "nbformat": 4,
 "nbformat_minor": 5
}
